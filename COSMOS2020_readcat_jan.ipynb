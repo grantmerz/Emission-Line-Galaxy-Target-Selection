{
 "cells": [
  {
   "cell_type": "markdown",
   "metadata": {},
   "source": [
    "# COSMOS2020 catalogue analysis \n",
    "\n",
    "by D. Blanquez, I. Davidzon, G. Magdis\n",
    "\n",
    "Contacts: dblse@space.dtu.dk\n",
    "\n",
    "With the present Notebook the user is able to extract valuable information from the COSMOS2020 catalogue, which can be downloaded from [this data repository](https://cosmos2020.calet.org/). This is also a convenient starting point for further analysis. With minimal modifications the code can be useful to study others galaxy catalogues. \n",
    "\n",
    "The Notebook is divided in the following sections:\n",
    "\n",
    "* **Introduction**: loading the tables and selecting the columns\n",
    "* **Data preparation**: basic manipulations/corrections of the original photometry\n",
    "* **Data visualization**: sky map, redshift and color distributions, SED fitting\n",
    "* **Classic diagnostics**: color-color diagrams, SFR vs. M* diagram, ...\n",
    "* **A simple machine-learning application**: prducing \"mock photometry\" by means of Gaussian Mixtures\n",
    "\n",
    "Acknowledgments: if you use the COSMOS2020 catalog in your study, please cite [Weaver et al. (2021)](https://arxiv.org/abs/2110.13923)"
   ]
  },
  {
   "cell_type": "code",
   "execution_count": 2,
   "metadata": {},
   "outputs": [],
   "source": [
    "%matplotlib inline \n",
    "import numpy as np \n",
    "from matplotlib import pyplot as plt \n",
    "import h5py # used in the Data Visualization section \n",
    "\n",
    "from astropy.io import fits,ascii,votable\n",
    "from astropy import units as u \n",
    "from astropy import constants as const\n",
    "from astropy import table\n",
    "from astropy.cosmology import Planck15,FlatLambdaCDM\n",
    "\n",
    "# For ML application\n",
    "from sklearn.cluster import KMeans\n",
    "from sklearn import mixture\n",
    "from itertools import combinations\n"
   ]
  },
  {
   "cell_type": "code",
   "execution_count": null,
   "metadata": {},
   "outputs": [],
   "source": []
  },
  {
   "cell_type": "markdown",
   "metadata": {},
   "source": [
    "## Introduction: the COSMOS2020 catalogue in two complementary versions\n",
    "\n",
    "There are two versions of the COSMOS2020 catalogue: a *Classic* one where the photometry is produced by a pipeline similar to Laigle et al. (2016), and the *Farmer* version that relies on the software *Tractor* recently developed by Lang & Hogg (http://thetractor.org/). Respective file names are:\n",
    "\n",
    "1. COSMOS2020_CLASSIC_R1_v2.0.fits\n",
    "2. COSMOS2020_FARMER_R1_v2.0.fits\n",
    "\n",
    "Both tables come with additional information from SED fitting anlaysis (photometric redshifts, stellar masses, etc.) and a `*.header` ASCII file explaining the content of each column. Depending on the version some column may have a slightly different name. Please note that SED fitting was performed twice, with eather *LePhare* or *EAZY* code. Therefore, there are four possible combinations to do science: *Farmer* + *LePhare*, *Farmer* + *EAZY*, etc. \n",
    "\n",
    "These and many more input parameters are specified in the present section."
   ]
  },
  {
   "cell_type": "code",
   "execution_count": 7,
   "metadata": {},
   "outputs": [],
   "source": [
    "# Specify the version of the catalog and the folder with the input/output files\n",
    "catversion = 'Farmer'  # this string can be either 'Classic' or 'Farmer'\n",
    "dir_in = '/Users/yokisalcedo/Cosmos2020repo/data/processed/'  \n",
    "dir_out = '/Users/yokisalcedo/Cosmos2020repo/models/'  # the directory where the output of this notebook will be stored"
   ]
  },
  {
   "cell_type": "code",
   "execution_count": 8,
   "metadata": {},
   "outputs": [],
   "source": [
    "# Chose the SED fitting code: \n",
    "# set to 'lp' for LePhare results or\n",
    "# set to 'ez' for EAZY\n",
    "fitversion = 'lp'  "
   ]
  },
  {
   "cell_type": "code",
   "execution_count": 9,
   "metadata": {},
   "outputs": [],
   "source": [
    "# Which type of photometric estimates to use? (suffix of the column name)\n",
    "# This choice must be consistent with `catversion`,\n",
    "# choices for Classic are: '_FLUX_APER2', '_FLUX_APER3', '_MAG_APER2,', '_MAG_APER3'\n",
    "# choices for Farmer are '_FLUX' or '_MAG' \n",
    "flx = '_FLUX'  \n",
    "flxerr = '_FLUXERR'  # catalog column for flux/mag error, just add 'ERR'\n",
    "outflx = 'cgs' # 'cgs' or 'uJy'"
   ]
  },
  {
   "cell_type": "markdown",
   "metadata": {},
   "source": [
    "There are several pararemeters regarding the telescope filters used for observations. They are collectively stored in a dictionary. "
   ]
  },
  {
   "cell_type": "code",
   "execution_count": 10,
   "metadata": {},
   "outputs": [],
   "source": [
    "# Filter names, mean wavelength, and other info (see Table 1 in W+21)\n",
    "filt_name = ['GALEX_FUV', 'GALEX_NUV','CFHT_u','CFHT_ustar','HSC_g', 'HSC_r', 'HSC_i', 'HSC_z', 'HSC_y', 'UVISTA_Y', 'UVISTA_J', 'UVISTA_H', 'UVISTA_Ks', \n",
    "             'SC_IB427', 'SC_IB464', 'SC_IA484', 'SC_IB505', 'SC_IA527', 'SC_IB574', 'SC_IA624', 'SC_IA679',\n",
    "             'SC_IB709', 'SC_IA738', 'SC_IA767', 'SC_IB827', 'SC_NB711', 'SC_NB816', 'UVISTA_NB118',\n",
    "             'SC_B', 'SC_gp', 'SC_V', 'SC_rp', 'SC_ip','SC_zp', 'SC_zpp', 'IRAC_CH1', 'IRAC_CH2', 'IRAC_CH3','IRAC_CH4']  \n",
    "filt_lambda = [0.1526,0.2307,0.3709,0.3858,0.4847,0.6219,0.7699,0.8894,0.9761,1.0216,1.2525,1.6466,2.1557,0.4266,0.4635,0.4851,0.5064,0.5261,0.5766,0.6232,0.6780,0.7073,0.7361,0.7694,0.8243,0.7121,0.8150,1.1909,0.4488,0.4804,0.5487,0.6305,0.7693,0.8978,0.9063,3.5686,4.5067,5.7788,7.9958]\n",
    "filt_fwhm = [0.0224,0.07909,0.05181,0.05976,0.1383,0.1547,0.1471,0.0766,0.0786,0.0923,0.1718,0.2905,0.3074,0.02073,0.02182,0.02292,0.0231,0.02429,0.02729,0.03004,0.03363,0.03163,0.03235,0.03648,0.0343,0.0072,0.01198,0.01122,0.0892,0.1265,0.0954,0.1376,0.1497,0.0847,0.1335,0.7443,1.0119,1.4082,2.8796] \n",
    "# corresponding MW attenuation from Schelgel \n",
    "AlambdaDivEBV = [8.31,8.742,4.807,4.674,3.69,2.715,2.0,1.515,1.298,1.213,0.874,0.565,0.365,4.261,3.844,3.622,3.425,3.265,2.938,2.694,2.431,2.29,2.151,1.997,1.748,2.268,1.787,0.946,4.041,3.738,3.128,2.673,2.003,1.436,1.466,0.163,0.112,0.075,0.045]\n",
    "# photometric offsets (not available for all filters, see Table 3 in W+21)\n",
    "zpoff1 = [0.000,-0.352,-0.077,-0.023,0.073,0.101,0.038,0.036,0.086,0.054,0.017,-0.045,0.000,-0.104,-0.044,-0.021,-0.018,-0.045,-0.084,0.005,0.166,-0.023,-0.034,-0.032,-0.069,-0.010,-0.064,0.000,0.000,0.000,0.000,0.000,0.000,0.000,0.000,-0.212,-0.219,0.000,0.000]  # Farmer+LePhare\n",
    "zpoff2 = [0.000,-0.029,-0.006,0.053,0.128,0.127,0.094,0.084,0.100,0.049,0.025,-0.044,0.000,-0.013,-0.008,0.022,0.025,0.033,-0.032,0.031,0.208,-0.009,0.003,-0.015,-0.001,0.023,-0.021,-0.017,-0.075,0.000,0.123,0.035,0.051,0.000,0.095,-0.087,-0.111,0.000,0.000]  # Classic+LePhare\n",
    "zpoff3 = [0.000,0.000,-0.196,-0.054,0.006,0.090,0.043,0.071,0.118,0.078,0.047,-0.034,0.000,-0.199,-0.129,-0.084,-0.073,-0.087,-0.124,0.004,0.154,-0.022,-0.030,-0.013,-0.057,0.000,0.000,0.000,0.000,0.000,0.000,0.000,0.000,0.000,0.000,-0.102,-0.044,0.000,0.000] # Farmer+EAZY\n",
    "zpoff4 = [0.000,0.000,0.000,-0.021,0.055,0.124,0.121,0.121,0.145,0.085,0.057,-0.036,0.000,-0.133,-0.098,-0.046,-0.037,-0.038,-0.062,0.038,0.214,0.024,0.022,0.01,0.022,0.000,0.000,0.00,0.00,0.00,0.00,0.00,0.00,0.00,0.00,0.021,0.025,0.000,0.000] # Classic+EAZY\n",
    "# create the dictionary\n",
    "filt_dict = {filt_name[i]:(filt_lambda[i]*1e4,filt_fwhm[i]*1e4,AlambdaDivEBV[i],[zpoff1[i],zpoff2[i],zpoff3[i],zpoff4[i]]) for i in range(len(filt_name))}"
   ]
  },
  {
   "cell_type": "markdown",
   "metadata": {},
   "source": [
    "--------------------\n",
    "## Data preparation\n",
    "\n",
    "This section includes corrections due to Milky Way foreground extinction, photometric offsets, and flux loss in case of aperture photometry. Here, a subsample of the catalogue (either by rows or columns) can also be selected, and the table re-formatted to be saved as a different file."
   ]
  },
  {
   "cell_type": "code",
   "execution_count": 15,
   "metadata": {},
   "outputs": [],
   "source": [
    "# Upload the main catalogue\n",
    "cat0 = table.Table.read(dir_in+'COSMOS2020_{}_jan_processed.fits'.format(catversion.upper()),format='fits',hdu=1)"
   ]
  },
  {
   "cell_type": "code",
   "execution_count": 16,
   "metadata": {},
   "outputs": [],
   "source": [
    "# Create a mask to restrict the analysis to a subset of filters (optional)\n",
    "filt_use = ['CFHT_ustar', 'CFHT_u', 'HSC_g', 'HSC_r', 'HSC_i', 'HSC_z', 'HSC_y', 'UVISTA_Y', 'UVISTA_J', 'UVISTA_H', 'UVISTA_Ks', 'IRAC_CH1', 'IRAC_CH2']\n",
    "filt_mask = [i in filt_use for i in filt_name]"
   ]
  },
  {
   "cell_type": "code",
   "execution_count": 18,
   "metadata": {},
   "outputs": [
    {
     "data": {
      "text/html": [
       "<i>Table masked=True length=2</i>\n",
       "<table id=\"table140450578656224\" class=\"table-striped table-bordered table-condensed\">\n",
       "<thead><tr><th>ID</th><th>RA</th><th>DEC</th><th>FLAG_HSC</th><th>FLAG_SUPCAM</th><th>EBV_MW</th><th>CFHT_u_FLUX</th><th>CFHT_u_FLUXERR</th><th>CFHT_ustar_FLUX</th><th>CFHT_ustar_FLUXERR</th><th>HSC_g_FLUX</th><th>HSC_g_FLUXERR</th><th>HSC_r_FLUX</th><th>HSC_r_FLUXERR</th><th>HSC_i_FLUX</th><th>HSC_i_FLUXERR</th><th>HSC_z_FLUX</th><th>HSC_z_FLUXERR</th><th>HSC_y_FLUX</th><th>HSC_y_FLUXERR</th><th>UVISTA_Y_FLUX</th><th>UVISTA_Y_FLUXERR</th><th>UVISTA_J_FLUX</th><th>UVISTA_J_FLUXERR</th><th>UVISTA_H_FLUX</th><th>UVISTA_H_FLUXERR</th><th>UVISTA_Ks_FLUX</th><th>UVISTA_Ks_FLUXERR</th><th>IRAC_CH1_FLUX</th><th>IRAC_CH1_FLUXERR</th><th>IRAC_CH2_FLUX</th><th>IRAC_CH2_FLUXERR</th><th>photoz</th><th>lp_type</th><th>lp_zPDF_l68</th><th>lp_zPDF_u68</th><th>lp_zMinChi2</th><th>lp_chi2_best</th><th>lp_zp_2</th><th>lp_chi2_2</th><th>lp_zq</th><th>lp_chiq</th><th>lp_chis</th><th>lp_mask</th><th>lp_model</th><th>lp_age</th><th>lp_dust</th><th>lp_Attenuation</th><th>lp_MU</th><th>lp_MG</th><th>lp_MR</th><th>lp_MJ</th><th>lp_mass_med</th><th>lp_mass_med_min68</th><th>lp_mass_med_max68</th><th>lp_mass_best</th><th>lp_SFR_med</th><th>lp_SFR_med_min68</th><th>lp_SFR_med_max68</th><th>lp_SFR_best</th><th>ez_z_phot</th><th>ez_z_phot_chi2</th><th>ez_z_phot_risk</th><th>ez_z_min_risk</th><th>ez_min_risk</th><th>ez_z025</th><th>ez_z160</th><th>ez_z500</th><th>ez_z840</th><th>ez_z975</th><th>ez_star_min_chi2</th><th>ez_restU</th><th>ez_restB</th><th>ez_restV</th><th>ez_restJ</th><th>ez_mass</th><th>ez_sfr</th><th>ez_LHa</th><th>ez_LOII</th><th>ez_Av</th><th>ez_lwAgeV</th><th>ez_mass_p160</th><th>ez_mass_p840</th><th>ez_sfr_p160</th><th>ez_sfr_p840</th><th>ez_LOII_p160</th><th>ez_LOII_p840</th><th>ez_ssfr_p160</th><th>ez_ssfr_p500</th><th>ez_ssfr_p840</th><th>CFHT_ustar_MAG</th><th>CFHT_u_MAG</th><th>HSC_g_MAG</th><th>HSC_r_MAG</th><th>HSC_i_MAG</th><th>HSC_z_MAG</th><th>HSC_y_MAG</th><th>UVISTA_Y_MAG</th><th>UVISTA_J_MAG</th><th>UVISTA_H_MAG</th><th>UVISTA_Ks_MAG</th><th>IRAC_CH1_MAG</th><th>IRAC_CH2_MAG</th></tr></thead>\n",
       "<thead><tr><th></th><th>deg</th><th>deg</th><th></th><th></th><th></th><th>erg / cm2</th><th>erg / cm2</th><th>erg / cm2</th><th>erg / cm2</th><th>erg / cm2</th><th>erg / cm2</th><th>erg / cm2</th><th>erg / cm2</th><th>erg / cm2</th><th>erg / cm2</th><th>erg / cm2</th><th>erg / cm2</th><th>erg / cm2</th><th>erg / cm2</th><th>erg / cm2</th><th>erg / cm2</th><th>erg / cm2</th><th>erg / cm2</th><th>erg / cm2</th><th>erg / cm2</th><th>erg / cm2</th><th>erg / cm2</th><th>erg / cm2</th><th>erg / cm2</th><th>erg / cm2</th><th>erg / cm2</th><th></th><th></th><th></th><th></th><th></th><th></th><th></th><th></th><th></th><th></th><th></th><th></th><th></th><th></th><th></th><th></th><th>mag</th><th>mag</th><th>mag</th><th>mag</th><th></th><th></th><th></th><th></th><th></th><th></th><th></th><th></th><th></th><th></th><th></th><th></th><th></th><th></th><th></th><th></th><th></th><th></th><th></th><th>uJy</th><th>uJy</th><th>uJy</th><th>uJy</th><th></th><th></th><th>solLum</th><th>solLum</th><th>mag</th><th>Gyr</th><th>solMass</th><th>solMass</th><th>solMass / yr</th><th>solMass / yr</th><th>solLum</th><th>solLum</th><th>1 / yr</th><th>1 / yr</th><th>1 / yr</th><th></th><th></th><th></th><th></th><th></th><th></th><th></th><th></th><th></th><th></th><th></th><th></th><th></th></tr></thead>\n",
       "<thead><tr><th>int64</th><th>float64</th><th>float64</th><th>int16</th><th>int16</th><th>float64</th><th>float64</th><th>float64</th><th>float64</th><th>float64</th><th>float64</th><th>float64</th><th>float64</th><th>float64</th><th>float64</th><th>float64</th><th>float64</th><th>float64</th><th>float64</th><th>float64</th><th>float64</th><th>float64</th><th>float64</th><th>float64</th><th>float64</th><th>float64</th><th>float64</th><th>float64</th><th>float64</th><th>float64</th><th>float64</th><th>float64</th><th>float64</th><th>int64</th><th>float64</th><th>float64</th><th>float64</th><th>float64</th><th>float64</th><th>float64</th><th>float64</th><th>float64</th><th>float64</th><th>float64</th><th>int64</th><th>float64</th><th>float64</th><th>int64</th><th>float64</th><th>float64</th><th>float64</th><th>float64</th><th>float64</th><th>float64</th><th>float64</th><th>float64</th><th>float64</th><th>float64</th><th>float64</th><th>float64</th><th>float32</th><th>float32</th><th>float32</th><th>float32</th><th>float32</th><th>float32</th><th>float32</th><th>float32</th><th>float32</th><th>float32</th><th>float32</th><th>float32</th><th>float32</th><th>float32</th><th>float32</th><th>float64</th><th>float64</th><th>float64</th><th>float64</th><th>float64</th><th>float64</th><th>float64</th><th>float64</th><th>float64</th><th>float64</th><th>float64</th><th>float64</th><th>float64</th><th>float64</th><th>float64</th><th>float64</th><th>float64</th><th>float64</th><th>float64</th><th>float64</th><th>float64</th><th>float64</th><th>float64</th><th>float64</th><th>float64</th><th>float64</th><th>float64</th><th>float64</th></tr></thead>\n",
       "<tr><td>1</td><td>150.47759181348482</td><td>2.3289280599580477</td><td>0</td><td>0</td><td>0.01465764190485742</td><td>1.5252260316610877e-30</td><td>4.1863488283601616e-32</td><td>1.5536189913397627e-30</td><td>3.566769095834382e-32</td><td>1.4174373484865035e-30</td><td>3.4682673072330925e-32</td><td>1.5153990810882991e-30</td><td>4.804885971761918e-32</td><td>1.4633022174080137e-30</td><td>4.5610206599078234e-32</td><td>1.6146652966034725e-30</td><td>6.886879564422908e-32</td><td>2.0202876142579984e-30</td><td>1.512743701028521e-31</td><td>2.184533700198253e-30</td><td>1.0935296985526243e-31</td><td>3.4549102825715356e-30</td><td>1.2955112496925438e-31</td><td>3.911804487833673e-30</td><td>1.6259644938874592e-31</td><td>3.2536508304140975e-30</td><td>2.16464934093371e-31</td><td>2.433137139315819e-30</td><td>1.2499986182277433e-31</td><td>3.9747878027788734e-30</td><td>1.0825896424508906e-31</td><td>1.593</td><td>0</td><td>1.514</td><td>1.6732</td><td>1.581</td><td>1.8967115384615385</td><td>nan</td><td>nan</td><td>2.21</td><td>4.9497307692307695</td><td>10.968444444444446</td><td>0.0</td><td>10</td><td>508800000.0</td><td>0.1</td><td>0</td><td>-18.58492</td><td>-19.16556</td><td>-19.28665</td><td>-18.82977</td><td>8.5707</td><td>8.4769</td><td>8.72267</td><td>8.52185</td><td>0.1587</td><td>-0.17138</td><td>0.26124</td><td>0.2347</td><td>1.5981634</td><td>226.50162</td><td>0.004000952</td><td>1.5985415</td><td>0.004009182</td><td>1.547226</td><td>1.5752951</td><td>1.5965912</td><td>1.6176264</td><td>1.652233</td><td>1150.471</td><td>0.18273404</td><td>0.26975456</td><td>0.31889814</td><td>0.26588404</td><td>8.930507970884136</td><td>-0.16172483687841568</td><td>57953991.22018559</td><td>46568549.76439913</td><td>0.03846124223190879</td><td>0.4302562381923336</td><td>813050442.7427151</td><td>891693755.3555163</td><td>0.676109559834417</td><td>0.7070195529363686</td><td>45691212.24827505</td><td>47780435.10709193</td><td>7.644313929987373e-10</td><td>8.14331767978337e-10</td><td>8.632032971719754e-10</td><td>25.921638696538725</td><td>25.94166447763064</td><td>26.021240320166857</td><td>25.948682451087866</td><td>25.98666492324113</td><td>25.879793721881637</td><td>25.636466996688497</td><td>25.551603127904173</td><td>25.05390806485616</td><td>24.919057148499974</td><td>25.119072639377556</td><td>25.434583530416873</td><td>24.901715128865995</td></tr>\n",
       "<tr><td>964453</td><td>150.20120247620304</td><td>1.7877673034617472</td><td>0</td><td>0</td><td>0.01566134608267684</td><td>nan</td><td>nan</td><td>nan</td><td>nan</td><td>-2.5735267501097106e-31</td><td>3.195647289209951e-32</td><td>-2.116296872435208e-30</td><td>4.3084514208744326e-32</td><td>-7.005164602453614e-31</td><td>1.1313708498984761e-31</td><td>nan</td><td>nan</td><td>nan</td><td>nan</td><td>-5.3848326154298375e-30</td><td>8.11867211604337e-32</td><td>nan</td><td>nan</td><td>nan</td><td>nan</td><td>nan</td><td>nan</td><td>-1.8049623760808804e-29</td><td>1.206089427697265e-31</td><td>-1.2836823457122287e-29</td><td>1.433047780133508e-31</td><td>nan</td><td>-99</td><td>nan</td><td>nan</td><td>nan</td><td>nan</td><td>nan</td><td>nan</td><td>nan</td><td>nan</td><td>nan</td><td>nan</td><td>-99</td><td>nan</td><td>nan</td><td>-99</td><td>nan</td><td>nan</td><td>nan</td><td>nan</td><td>nan</td><td>nan</td><td>nan</td><td>nan</td><td>nan</td><td>nan</td><td>nan</td><td>nan</td><td>0.38397914</td><td>33358.414</td><td>0.9035833</td><td>8.727436</td><td>0.7218744</td><td>0.1871098</td><td>1.5805731</td><td>5.770452</td><td>9.966681</td><td>11.627959</td><td>2950.8528</td><td>nan</td><td>nan</td><td>nan</td><td>nan</td><td>nan</td><td>nan</td><td>nan</td><td>nan</td><td>nan</td><td>nan</td><td>nan</td><td>nan</td><td>nan</td><td>nan</td><td>nan</td><td>nan</td><td>nan</td><td>nan</td><td>nan</td><td>nan</td><td>nan</td><td>nan</td><td>nan</td><td>nan</td><td>nan</td><td>nan</td><td>nan</td><td>nan</td><td>nan</td><td>nan</td><td>nan</td><td>nan</td></tr>\n",
       "</table>"
      ],
      "text/plain": [
       "<Table masked=True length=2>\n",
       "  ID           RA         ...    IRAC_CH1_MAG       IRAC_CH2_MAG   \n",
       "              deg         ...                                      \n",
       "int64       float64       ...      float64            float64      \n",
       "------ ------------------ ... ------------------ ------------------\n",
       "     1 150.47759181348482 ... 25.434583530416873 24.901715128865995\n",
       "964453 150.20120247620304 ...                nan                nan"
      ]
     },
     "execution_count": 18,
     "metadata": {},
     "output_type": "execute_result"
    }
   ],
   "source": [
    "# Have a quick look inside the table\n",
    "cat0[[0,-1]]"
   ]
  },
  {
   "cell_type": "code",
   "execution_count": 60,
   "metadata": {},
   "outputs": [
    {
     "data": {
      "text/plain": [
       "['ID',\n",
       " 'ALPHA_J2000',\n",
       " 'DELTA_J2000',\n",
       " 'X_MODEL',\n",
       " 'Y_MODEL',\n",
       " 'ERRX_MODEL',\n",
       " 'ERRY_MODEL',\n",
       " 'ALPHA_DETECTION',\n",
       " 'DELTA_DETECTION',\n",
       " 'FARMER_ID',\n",
       " 'N_GROUP',\n",
       " 'FLAG_HSC',\n",
       " 'FLAG_SUPCAM',\n",
       " 'FLAG_UDEEP',\n",
       " 'FLAG_UVISTA',\n",
       " 'FLAG_COMBINED',\n",
       " 'EBV_MW',\n",
       " 'CFHT_u_FLUX',\n",
       " 'CFHT_u_FLUXERR',\n",
       " 'CFHT_u_MAG',\n",
       " 'CFHT_u_MAGERR',\n",
       " 'CFHT_u_CHISQ',\n",
       " 'CFHT_u_DRIFT',\n",
       " 'CFHT_u_VALID',\n",
       " 'CFHT_ustar_FLUX',\n",
       " 'CFHT_ustar_FLUXERR',\n",
       " 'CFHT_ustar_MAG',\n",
       " 'CFHT_ustar_MAGERR',\n",
       " 'CFHT_ustar_CHISQ',\n",
       " 'CFHT_ustar_DRIFT',\n",
       " 'CFHT_ustar_VALID',\n",
       " 'HSC_g_FLUX',\n",
       " 'HSC_g_FLUXERR',\n",
       " 'HSC_g_MAG',\n",
       " 'HSC_g_MAGERR',\n",
       " 'HSC_g_CHISQ',\n",
       " 'HSC_g_DRIFT',\n",
       " 'HSC_g_VALID',\n",
       " 'HSC_r_FLUX',\n",
       " 'HSC_r_FLUXERR',\n",
       " 'HSC_r_MAG',\n",
       " 'HSC_r_MAGERR',\n",
       " 'HSC_r_CHISQ',\n",
       " 'HSC_r_DRIFT',\n",
       " 'HSC_r_VALID',\n",
       " 'HSC_i_FLUX',\n",
       " 'HSC_i_FLUXERR',\n",
       " 'HSC_i_MAG',\n",
       " 'HSC_i_MAGERR',\n",
       " 'HSC_i_CHISQ',\n",
       " 'HSC_i_DRIFT',\n",
       " 'HSC_i_VALID',\n",
       " 'HSC_z_FLUX',\n",
       " 'HSC_z_FLUXERR',\n",
       " 'HSC_z_MAG',\n",
       " 'HSC_z_MAGERR',\n",
       " 'HSC_z_CHISQ',\n",
       " 'HSC_z_DRIFT',\n",
       " 'HSC_z_VALID',\n",
       " 'HSC_y_FLUX',\n",
       " 'HSC_y_FLUXERR',\n",
       " 'HSC_y_MAG',\n",
       " 'HSC_y_MAGERR',\n",
       " 'HSC_y_CHISQ',\n",
       " 'HSC_y_DRIFT',\n",
       " 'HSC_y_VALID',\n",
       " 'UVISTA_Y_FLUX',\n",
       " 'UVISTA_Y_FLUXERR',\n",
       " 'UVISTA_Y_MAG',\n",
       " 'UVISTA_Y_MAGERR',\n",
       " 'UVISTA_Y_CHISQ',\n",
       " 'UVISTA_Y_DRIFT',\n",
       " 'UVISTA_Y_VALID',\n",
       " 'UVISTA_J_FLUX',\n",
       " 'UVISTA_J_FLUXERR',\n",
       " 'UVISTA_J_MAG',\n",
       " 'UVISTA_J_MAGERR',\n",
       " 'UVISTA_J_CHISQ',\n",
       " 'UVISTA_J_DRIFT',\n",
       " 'UVISTA_J_VALID',\n",
       " 'UVISTA_H_FLUX',\n",
       " 'UVISTA_H_FLUXERR',\n",
       " 'UVISTA_H_MAG',\n",
       " 'UVISTA_H_MAGERR',\n",
       " 'UVISTA_H_CHISQ',\n",
       " 'UVISTA_H_DRIFT',\n",
       " 'UVISTA_H_VALID',\n",
       " 'UVISTA_Ks_FLUX',\n",
       " 'UVISTA_Ks_FLUXERR',\n",
       " 'UVISTA_Ks_MAG',\n",
       " 'UVISTA_Ks_MAGERR',\n",
       " 'UVISTA_Ks_CHISQ',\n",
       " 'UVISTA_Ks_DRIFT',\n",
       " 'UVISTA_Ks_VALID',\n",
       " 'UVISTA_NB118_FLUX',\n",
       " 'UVISTA_NB118_FLUXERR',\n",
       " 'UVISTA_NB118_MAG',\n",
       " 'UVISTA_NB118_MAGERR',\n",
       " 'UVISTA_NB118_CHISQ',\n",
       " 'UVISTA_NB118_DRIFT',\n",
       " 'UVISTA_NB118_VALID',\n",
       " 'SC_IB427_FLUX',\n",
       " 'SC_IB427_FLUXERR',\n",
       " 'SC_IB427_MAG',\n",
       " 'SC_IB427_MAGERR',\n",
       " 'SC_IB427_CHISQ',\n",
       " 'SC_IB427_DRIFT',\n",
       " 'SC_IB427_VALID',\n",
       " 'SC_IB464_FLUX',\n",
       " 'SC_IB464_FLUXERR',\n",
       " 'SC_IB464_MAG',\n",
       " 'SC_IB464_MAGERR',\n",
       " 'SC_IB464_CHISQ',\n",
       " 'SC_IB464_DRIFT',\n",
       " 'SC_IB464_VALID',\n",
       " 'SC_IA484_FLUX',\n",
       " 'SC_IA484_FLUXERR',\n",
       " 'SC_IA484_MAG',\n",
       " 'SC_IA484_MAGERR',\n",
       " 'SC_IA484_CHISQ',\n",
       " 'SC_IA484_DRIFT',\n",
       " 'SC_IA484_VALID',\n",
       " 'SC_IB505_FLUX',\n",
       " 'SC_IB505_FLUXERR',\n",
       " 'SC_IB505_MAG',\n",
       " 'SC_IB505_MAGERR',\n",
       " 'SC_IB505_CHISQ',\n",
       " 'SC_IB505_DRIFT',\n",
       " 'SC_IB505_VALID',\n",
       " 'SC_IA527_FLUX',\n",
       " 'SC_IA527_FLUXERR',\n",
       " 'SC_IA527_MAG',\n",
       " 'SC_IA527_MAGERR',\n",
       " 'SC_IA527_CHISQ',\n",
       " 'SC_IA527_DRIFT',\n",
       " 'SC_IA527_VALID',\n",
       " 'SC_IB574_FLUX',\n",
       " 'SC_IB574_FLUXERR',\n",
       " 'SC_IB574_MAG',\n",
       " 'SC_IB574_MAGERR',\n",
       " 'SC_IB574_CHISQ',\n",
       " 'SC_IB574_DRIFT',\n",
       " 'SC_IB574_VALID',\n",
       " 'SC_IA624_FLUX',\n",
       " 'SC_IA624_FLUXERR',\n",
       " 'SC_IA624_MAG',\n",
       " 'SC_IA624_MAGERR',\n",
       " 'SC_IA624_CHISQ',\n",
       " 'SC_IA624_DRIFT',\n",
       " 'SC_IA624_VALID',\n",
       " 'SC_IA679_FLUX',\n",
       " 'SC_IA679_FLUXERR',\n",
       " 'SC_IA679_MAG',\n",
       " 'SC_IA679_MAGERR',\n",
       " 'SC_IA679_CHISQ',\n",
       " 'SC_IA679_DRIFT',\n",
       " 'SC_IA679_VALID',\n",
       " 'SC_IB709_FLUX',\n",
       " 'SC_IB709_FLUXERR',\n",
       " 'SC_IB709_MAG',\n",
       " 'SC_IB709_MAGERR',\n",
       " 'SC_IB709_CHISQ',\n",
       " 'SC_IB709_DRIFT',\n",
       " 'SC_IB709_VALID',\n",
       " 'SC_IA738_FLUX',\n",
       " 'SC_IA738_FLUXERR',\n",
       " 'SC_IA738_MAG',\n",
       " 'SC_IA738_MAGERR',\n",
       " 'SC_IA738_CHISQ',\n",
       " 'SC_IA738_DRIFT',\n",
       " 'SC_IA738_VALID',\n",
       " 'SC_IA767_FLUX',\n",
       " 'SC_IA767_FLUXERR',\n",
       " 'SC_IA767_MAG',\n",
       " 'SC_IA767_MAGERR',\n",
       " 'SC_IA767_CHISQ',\n",
       " 'SC_IA767_DRIFT',\n",
       " 'SC_IA767_VALID',\n",
       " 'SC_IB827_FLUX',\n",
       " 'SC_IB827_FLUXERR',\n",
       " 'SC_IB827_MAG',\n",
       " 'SC_IB827_MAGERR',\n",
       " 'SC_IB827_CHISQ',\n",
       " 'SC_IB827_DRIFT',\n",
       " 'SC_IB827_VALID',\n",
       " 'SC_NB711_FLUX',\n",
       " 'SC_NB711_FLUXERR',\n",
       " 'SC_NB711_MAG',\n",
       " 'SC_NB711_MAGERR',\n",
       " 'SC_NB711_CHISQ',\n",
       " 'SC_NB711_DRIFT',\n",
       " 'SC_NB711_VALID',\n",
       " 'SC_NB816_FLUX',\n",
       " 'SC_NB816_FLUXERR',\n",
       " 'SC_NB816_MAG',\n",
       " 'SC_NB816_MAGERR',\n",
       " 'SC_NB816_CHISQ',\n",
       " 'SC_NB816_DRIFT',\n",
       " 'SC_NB816_VALID',\n",
       " 'IRAC_CH1_FLUX',\n",
       " 'IRAC_CH1_FLUXERR',\n",
       " 'IRAC_CH1_MAG',\n",
       " 'IRAC_CH1_MAGERR',\n",
       " 'IRAC_CH1_CHISQ',\n",
       " 'IRAC_CH1_DRIFT',\n",
       " 'IRAC_CH1_VALID',\n",
       " 'IRAC_CH2_FLUX',\n",
       " 'IRAC_CH2_FLUXERR',\n",
       " 'IRAC_CH2_MAG',\n",
       " 'IRAC_CH2_MAGERR',\n",
       " 'IRAC_CH2_CHISQ',\n",
       " 'IRAC_CH2_DRIFT',\n",
       " 'IRAC_CH2_VALID',\n",
       " 'IRAC_CH3_FLUX',\n",
       " 'IRAC_CH3_FLUXERR',\n",
       " 'IRAC_CH3_MAG',\n",
       " 'IRAC_CH3_MAGERR',\n",
       " 'IRAC_CH3_CHISQ',\n",
       " 'IRAC_CH3_DRIFT',\n",
       " 'IRAC_CH3_VALID',\n",
       " 'IRAC_CH4_FLUX',\n",
       " 'IRAC_CH4_FLUXERR',\n",
       " 'IRAC_CH4_MAG',\n",
       " 'IRAC_CH4_MAGERR',\n",
       " 'IRAC_CH4_CHISQ',\n",
       " 'IRAC_CH4_DRIFT',\n",
       " 'IRAC_CH4_VALID',\n",
       " 'VALID_SOURCE',\n",
       " 'SOLUTION_MODEL',\n",
       " 'ID_GALEX',\n",
       " 'GALEX_NUV_FLUX',\n",
       " 'GALEX_NUV_FLUXERR',\n",
       " 'GALEX_NUV_MAG',\n",
       " 'GALEX_NUV_MAGERR',\n",
       " 'GALEX_FUV_FLUX',\n",
       " 'GALEX_FUV_FLUXERR',\n",
       " 'GALEX_FUV_MAG',\n",
       " 'GALEX_FUV_MAGERR',\n",
       " 'ID_COSMOS2015',\n",
       " 'SPLASH_CH1_FLUX',\n",
       " 'SPLASH_CH1_FLUXERR',\n",
       " 'SPLASH_CH1_MAG',\n",
       " 'SPLASH_CH1_MAGERR',\n",
       " 'SPLASH_CH2_FLUX',\n",
       " 'SPLASH_CH2_FLUXERR',\n",
       " 'SPLASH_CH2_MAG',\n",
       " 'SPLASH_CH2_MAGERR',\n",
       " 'SPLASH_CH3_FLUX',\n",
       " 'SPLASH_CH3_FLUXERR',\n",
       " 'SPLASH_CH3_MAG',\n",
       " 'SPLASH_CH3_MAGERR',\n",
       " 'SPLASH_CH4_FLUX',\n",
       " 'SPLASH_CH4_FLUXERR',\n",
       " 'SPLASH_CH4_MAG',\n",
       " 'SPLASH_CH4_MAGERR',\n",
       " 'ID_ACS',\n",
       " 'F814W_MAG',\n",
       " 'F814W_MAGERR',\n",
       " 'F814W_FLUX',\n",
       " 'F814W_FLUXERR',\n",
       " 'ACS_A_WORLD',\n",
       " 'ACS_B_WORLD',\n",
       " 'ACS_THETA_WORLD',\n",
       " 'ACS_FWHM_WORLD',\n",
       " 'ACS_MU_MAX',\n",
       " 'ACS_MU_CLASS',\n",
       " 'ID_CHANDRA',\n",
       " 'ID_CLASSIC',\n",
       " 'lp_zBEST',\n",
       " 'lp_type',\n",
       " 'lp_zPDF',\n",
       " 'lp_zPDF_l68',\n",
       " 'lp_zPDF_u68',\n",
       " 'lp_zMinChi2',\n",
       " 'lp_chi2_best',\n",
       " 'lp_zp_2',\n",
       " 'lp_chi2_2',\n",
       " 'lp_NbFilt',\n",
       " 'lp_zq',\n",
       " 'lp_chiq',\n",
       " 'lp_modq',\n",
       " 'lp_mods',\n",
       " 'lp_chis',\n",
       " 'lp_mask',\n",
       " 'lp_model',\n",
       " 'lp_age',\n",
       " 'lp_dust',\n",
       " 'lp_Attenuation',\n",
       " 'lp_MFUV',\n",
       " 'lp_MNUV',\n",
       " 'lp_MU',\n",
       " 'lp_MG',\n",
       " 'lp_MR',\n",
       " 'lp_MI',\n",
       " 'lp_MZ',\n",
       " 'lp_MY',\n",
       " 'lp_MJ',\n",
       " 'lp_MH',\n",
       " 'lp_MK',\n",
       " 'lp_mass_med',\n",
       " 'lp_mass_med_min68',\n",
       " 'lp_mass_med_max68',\n",
       " 'lp_mass_best',\n",
       " 'lp_SFR_med',\n",
       " 'lp_SFR_med_min68',\n",
       " 'lp_SFR_med_max68',\n",
       " 'lp_SFR_best',\n",
       " 'lp_sSFR_med',\n",
       " 'lp_sSFR_med_min68',\n",
       " 'lp_sSFR_med_max68',\n",
       " 'lp_sSFR_best',\n",
       " 'ez_z_phot',\n",
       " 'ez_z_phot_chi2',\n",
       " 'ez_z_phot_risk',\n",
       " 'ez_z_min_risk',\n",
       " 'ez_min_risk',\n",
       " 'ez_z_raw_chi2',\n",
       " 'ez_raw_chi2',\n",
       " 'ez_z025',\n",
       " 'ez_z160',\n",
       " 'ez_z500',\n",
       " 'ez_z840',\n",
       " 'ez_z975',\n",
       " 'ez_nusefilt',\n",
       " 'ez_lc_min',\n",
       " 'ez_lc_max',\n",
       " 'ez_star_min_chi2',\n",
       " 'ez_star_teff',\n",
       " 'ez_restU',\n",
       " 'ez_restU_err',\n",
       " 'ez_restB',\n",
       " 'ez_restB_err',\n",
       " 'ez_restV',\n",
       " 'ez_restV_err',\n",
       " 'ez_restJ',\n",
       " 'ez_restJ_err',\n",
       " 'ez_dL',\n",
       " 'ez_mass',\n",
       " 'ez_sfr',\n",
       " 'ez_Lv',\n",
       " 'ez_LIR',\n",
       " 'ez_energy_abs',\n",
       " 'ez_Lu',\n",
       " 'ez_Lj',\n",
       " 'ez_L1400',\n",
       " 'ez_L2800',\n",
       " 'ez_LHa',\n",
       " 'ez_LOIII',\n",
       " 'ez_LHb',\n",
       " 'ez_LOII',\n",
       " 'ez_MLv',\n",
       " 'ez_Av',\n",
       " 'ez_lwAgeV',\n",
       " 'ez_mass_p025',\n",
       " 'ez_mass_p160',\n",
       " 'ez_mass_p500',\n",
       " 'ez_mass_p840',\n",
       " 'ez_mass_p975',\n",
       " 'ez_sfr_p025',\n",
       " 'ez_sfr_p160',\n",
       " 'ez_sfr_p500',\n",
       " 'ez_sfr_p840',\n",
       " 'ez_sfr_p975',\n",
       " 'ez_Lv_p025',\n",
       " 'ez_Lv_p160',\n",
       " 'ez_Lv_p500',\n",
       " 'ez_Lv_p840',\n",
       " 'ez_Lv_p975',\n",
       " 'ez_LIR_p025',\n",
       " 'ez_LIR_p160',\n",
       " 'ez_LIR_p500',\n",
       " 'ez_LIR_p840',\n",
       " 'ez_LIR_p975',\n",
       " 'ez_energy_abs_p025',\n",
       " 'ez_energy_abs_p160',\n",
       " 'ez_energy_abs_p500',\n",
       " 'ez_energy_abs_p840',\n",
       " 'ez_energy_abs_p975',\n",
       " 'ez_Lu_p025',\n",
       " 'ez_Lu_p160',\n",
       " 'ez_Lu_p500',\n",
       " 'ez_Lu_p840',\n",
       " 'ez_Lu_p975',\n",
       " 'ez_Lj_p025',\n",
       " 'ez_Lj_p160',\n",
       " 'ez_Lj_p500',\n",
       " 'ez_Lj_p840',\n",
       " 'ez_Lj_p975',\n",
       " 'ez_L1400_p025',\n",
       " 'ez_L1400_p160',\n",
       " 'ez_L1400_p500',\n",
       " 'ez_L1400_p840',\n",
       " 'ez_L1400_p975',\n",
       " 'ez_L2800_p025',\n",
       " 'ez_L2800_p160',\n",
       " 'ez_L2800_p500',\n",
       " 'ez_L2800_p840',\n",
       " 'ez_L2800_p975',\n",
       " 'ez_LHa_p025',\n",
       " 'ez_LHa_p160',\n",
       " 'ez_LHa_p500',\n",
       " 'ez_LHa_p840',\n",
       " 'ez_LHa_p975',\n",
       " 'ez_LOIII_p025',\n",
       " 'ez_LOIII_p160',\n",
       " 'ez_LOIII_p500',\n",
       " 'ez_LOIII_p840',\n",
       " 'ez_LOIII_p975',\n",
       " 'ez_LHb_p025',\n",
       " 'ez_LHb_p160',\n",
       " 'ez_LHb_p500',\n",
       " 'ez_LHb_p840',\n",
       " 'ez_LHb_p975',\n",
       " 'ez_LOII_p025',\n",
       " 'ez_LOII_p160',\n",
       " 'ez_LOII_p500',\n",
       " 'ez_LOII_p840',\n",
       " 'ez_LOII_p975',\n",
       " 'ez_ssfr_p025',\n",
       " 'ez_ssfr_p160',\n",
       " 'ez_ssfr_p500',\n",
       " 'ez_ssfr_p840',\n",
       " 'ez_ssfr_p975',\n",
       " 'ez_Av_p025',\n",
       " 'ez_Av_p160',\n",
       " 'ez_Av_p500',\n",
       " 'ez_Av_p840',\n",
       " 'ez_Av_p975']"
      ]
     },
     "execution_count": 60,
     "metadata": {},
     "output_type": "execute_result"
    }
   ],
   "source": [
    "cat0.colnames"
   ]
  },
  {
   "cell_type": "markdown",
   "metadata": {},
   "source": [
    "### Flags (rows selection)\n",
    "\n",
    "Flags are used to (de-)select certain areas of the $2\\,deg^2$ COSMOS field. For example, by imposing `FLAG_HSC`equal to zero, only objects within the effective area of Subaru/HyperSuprimeCam are selected (i.e., observed by HSC and outside bright star regions). \n",
    "\n",
    "The **most important flag** is `FLAG_COMBINED` to remove areas with either unreliable photometry or partial coverage. We strongly recommend to set `FLAG_COMBINED==0` before starting your analysis. \n",
    "\n",
    "Please also note that the format of photometric columns (fluxes, magnitudes) is  **masked columns**, useful to single out certain entries from the table."
   ]
  },
  {
   "cell_type": "code",
   "execution_count": 63,
   "metadata": {},
   "outputs": [
    {
     "name": "stdout",
     "output_type": "stream",
     "text": [
      "The parent sample includes 746976 sources\n",
      "Now restricted to 746976 sources by using FLAG_COMBINED\n"
     ]
    }
   ],
   "source": [
    "whichflag = 'COMBINED'  # you can try HSC, SUPCAM, UVISTA, UDEEP, COMBINED\n",
    "print('The parent sample includes {} sources'.format(len(cat0)))\n",
    "cat0 = cat0[cat0['FLAG_{}'.format(whichflag)]==0]\n",
    "print('Now restricted to {} sources by using FLAG_COMBINED'.format(len(cat0)))"
   ]
  },
  {
   "cell_type": "markdown",
   "metadata": {},
   "source": [
    "### Correcting for MW extinction\n",
    "\n",
    "The following two cells remove the foreground extinction by the Milky Way (MW)."
   ]
  },
  {
   "cell_type": "code",
   "execution_count": 64,
   "metadata": {},
   "outputs": [],
   "source": [
    "def mw_corr(tab_in,f_dict,ebv_col='EBV_MW',flx_col='_FLUX',flxerr_col='_FLUXERR',only_filt=[],skip_filt=[],verbose=False,out=False):\n",
    "    \"\"\"\n",
    "    Parameters\n",
    "    ----------\n",
    "    tab_in : astropy table of COSMOS2020\n",
    "    f_dict : dictionary with filter info\n",
    "    ebv_col : name of the `tab_in` column containing the E(B-V) from Milky Way\n",
    "    flx_col : name of the `tab_in` column containing the flux\n",
    "    flxerr_col : name of the `tab_in` column containing the flux error bar\n",
    "    only_filt : list of the filters to be processed (filter names as in `f_dict`)\n",
    "    skip_filt : list of the filters NOT to be processed (filter names as in `f_dict`)\n",
    "    verbose : if True, print a verbose output\n",
    "    out : if True, return a new table with the changes; if False, overwrite `tab_in`\n",
    "    \"\"\"\n",
    "    \n",
    "    if 'FLUX' in flx_col: flux=True\n",
    "    else: flux=False\n",
    "    if out: tab = tab_in.copy()\n",
    "    else: tab = tab_in\n",
    "    ff = f_dict.keys()\n",
    "    if len(only_filt)>0 : ff = only_filt\n",
    "    for c in ff:\n",
    "        if verbose: print('remove MW attenuation in ',c+flx_col,f_dict[c][2])\n",
    "        if c not in skip_filt:\n",
    "            atten = f_dict[c][2]*tab[ebv_col]\n",
    "            if flux:    tab[c+flx_col] *= np.power(10.,0.4*atten)\n",
    "            else:    tab[c+flx_col] -= atten             \n",
    "        else:\n",
    "            if verbose: print('Skip filter',c)       \n",
    "    if out: return tab"
   ]
  },
  {
   "cell_type": "code",
   "execution_count": 80,
   "metadata": {
    "scrolled": true
   },
   "outputs": [],
   "source": [
    "# Here, the function creates a new table but\n",
    "# it is also possible to overwrite the original table `cat0`\n",
    "if catversion.lower()=='classic' and flx!='_FLUX' and flx!='_MAG':  \n",
    "    # it means you are using aperture or AUTO flux/mag, which are not available for IRAC and GALEX \n",
    "    cat1 = mw_corr(cat0,filt_dict,flx_col=flx,flxerr_col=flxerr,only_filt=filt_use,skip_filt=['IRAC_CH1', 'IRAC_CH2', 'GALEX_FUV', 'GALEX_NUV'],out=True) # fluxes are  in uJy (zero point = 23.9)\n",
    "    # therefore, IRAC and GALEX have to be taken into account separately:\n",
    "    mw_corr(cat1,filt_dict,flx_col='_FLUX',flxerr_col='_FLUXERR',only_filt=['IRAC_CH1', 'IRAC_CH2', 'GALEX_FUV', 'GALEX_NUV']) \n",
    "else:\n",
    "    # otherwise, all filters have the same suffix\n",
    "    cat1 = mw_corr(cat0,filt_dict,flx_col=flx,flxerr_col=flxerr,only_filt=filt_use,out=True)  # all bands have same column suffix"
   ]
  },
  {
   "cell_type": "markdown",
   "metadata": {},
   "source": [
    "### Correcting for aperture-to-total flux\n",
    "\n",
    "Circular aperture flux, available only in the *Classic* catalog, can be converted to total flux using a rescaling factor derived for each source from its APER-to-AUTO ratio."
   ]
  },
  {
   "cell_type": "code",
   "execution_count": 81,
   "metadata": {},
   "outputs": [],
   "source": [
    "def aper_to_tot(tab_in,f_dict,flx_col='_FLUX',flxerr_col='_FLUXERR',scale_col='',out_col=None,only_filt=[],skip_filt=[],verbose=False,out=False):\n",
    "    \"\"\"\n",
    "    Parameters\n",
    "    ----------\n",
    "    tab_in : astropy table of COSMOS2020\n",
    "    f_dict : dictionary with filter info \n",
    "    flx_col : name of the `tab_in` column containing the flux\n",
    "    flxerr_col : name of the `tab_in` column containing the flux error bar\n",
    "    scale_col : name of the `tab_in` column containing the aper-to-total correction\n",
    "    out_col : if defined, the rescaled photometry will be saved in a new column (otherwise it overwrites `flx_col`)\n",
    "    only_filt : list of the filters to be processed (filter names as in `f_dict`)\n",
    "    skip_filt : list of the filters NOT to be processed (filter names as in `f_dict`)\n",
    "    verbose : if True, print a verbose output\n",
    "    out : if True, return a new table with the changes; if False, overwrite `tab_in`  \n",
    "    \"\"\"\n",
    "    \n",
    "    if 'FLUX' in flx_col: flux=True\n",
    "    else: flux=False\n",
    "    if out: tab = tab_in.copy()\n",
    "    else: tab = tab_in \n",
    "    ff = f_dict.keys()\n",
    "    if len(only_filt)>0 : ff = only_filt\n",
    "    for c in ff:\n",
    "        if c not in skip_filt:\n",
    "\n",
    "            if verbose and flux: print('rescale {} to total flux'.format(c+flx_col))\n",
    "            if verbose and not flux: print('rescale {} to total mag'.format(c+flx_col))\n",
    "\n",
    "            if flux:\n",
    "                resc = np.power(10.,-0.4*tab[scale_col])\n",
    "                if out_col:\n",
    "                    tab[c+out_col] = tab[c+flx_col] * resc\n",
    "                    tab[c+out_col+'ERR'] = tab[c+flxerr_col] * resc  # rescale also error bars not to alter the S/N ratio\n",
    "                else:\n",
    "                    tab[c+flx_col] *= resc\n",
    "                    tab[c+flxerr_col] *= resc\n",
    "            else:\n",
    "                if out_col:\n",
    "                    tab[c+out_col] = tab[c+flx_col] + tab[scale_col] \n",
    "                else:\n",
    "                    tab[c+flx_col] += tab[scale_col]             \n",
    "        else:\n",
    "            if verbose: print('Skip filter',c)       \n",
    "    if out: return tab\n",
    "    "
   ]
  },
  {
   "cell_type": "code",
   "execution_count": 82,
   "metadata": {},
   "outputs": [],
   "source": [
    "# Can be applied only to aperture photometry (not to AUTO or Farmer)\n",
    "if (flx[-1]=='2' or flx[-1]=='3'):\n",
    "    aper_to_tot(cat1,filt_dict,flx_col=flx,flxerr_col=flxerr,out_col='_FLUX',\n",
    "    only_filt=filt_use,skip_filt=['IRAC_CH1', 'IRAC_CH2', 'GALEX_FUV', 'GALEX_NUV'],\n",
    "    scale_col='total_off'+flx[-1],verbose=True)\n"
   ]
  },
  {
   "cell_type": "markdown",
   "metadata": {},
   "source": [
    "### Correcting for photometric offset \n",
    "\n",
    "These are the systematic offsets in flux found by either `LePhare` or `EAZY` by using the COSMOS spectroscopic sample. They depend on the photometry (rescaled aperture-to-total photometry *Classic*, or the total photometry in *Farmer*) and on the SED fitting code (*LePhare* or *EAZY*). This correction has not been calculated for the AUTO fluxes in *Classic*. In the following we consider *LePhare* as a reference, whose prefix in the catalogue is `lp_` (e.g., `lp_zBEST`). *EAZY* prefix is `ez_`. "
   ]
  },
  {
   "cell_type": "code",
   "execution_count": 83,
   "metadata": {},
   "outputs": [],
   "source": [
    "def photo_corr(tab_in,f_dict,versions=('Farmer','lp'),flx_col='_FLUX',only_filt=[],skip_filt=[],verbose=False,out=False):\n",
    "    \"\"\"\n",
    "    Parameters\n",
    "    ----------\n",
    "    tab_in : astropy table of COSMOS2020\n",
    "    f_dict : dictionary with filter info\n",
    "    ebv_col : name of the `tab_in` column containing the E(B-V) from Milky Way\n",
    "    flx_col : name of the `tab_in` column containing the flux\n",
    "    flxerr_col : name of the `tab_in` column containing the flux error bar\n",
    "    only_filt : list of the filters to be processed (filter names as in `f_dict`)\n",
    "    skip_filt : list of the filters NOT to be processed (filter names as in `f_dict`)\n",
    "    verbose : if True, print a verbose output\n",
    "    out : if True, return a new table with the changes; if False, overwrite `tab_in`\n",
    "    \"\"\"\n",
    "    if 'FLUX' in flx_col: flux=True\n",
    "    else: flux=False\n",
    "    if out: tab = tab_in.copy()\n",
    "    else: tab = tab_in\n",
    "    ff = f_dict.keys()\n",
    "    if len(only_filt)>0 : ff = only_filt\n",
    "    \n",
    "    if versions[0]=='Farmer' and versions[1]=='lp': v=0\n",
    "    elif versions[0]=='Farmer' and versions[1]=='ez': v=1\n",
    "    elif versions[0]=='Classic' and versions[1]=='lp': v=2\n",
    "    elif versions[0]=='Classic' and versions[1]=='ez': v=3\n",
    "    else: \n",
    "        print(\"ERROR: is this catalog version real?\", version)\n",
    "        return\n",
    "    \n",
    "    for c in ff:\n",
    "        if verbose: print(' apply photometric offset to ',c+flx_col)\n",
    "        offset = f_dict[c][3][v]\n",
    "        if c not in skip_filt and offset!=0.:\n",
    "            if flux:  tab[c+flx_col] *= np.power(10.,-0.4*offset)\n",
    "            else:  tab[c+flx_col] += offset              \n",
    "        else:\n",
    "            if verbose: print('Skip filter',c)       \n",
    "    if out: return tab"
   ]
  },
  {
   "cell_type": "code",
   "execution_count": 84,
   "metadata": {},
   "outputs": [],
   "source": [
    "photo_corr(cat1,filt_dict,only_filt=filt_use,versions=(catversion,fitversion))"
   ]
  },
  {
   "cell_type": "markdown",
   "metadata": {},
   "source": [
    "### Final formatting\n",
    "\n",
    "Define a new astropy table `cat` which will be used in the rest of this Notebook.\n",
    "\n",
    "Before saving the new table, remove from the catalogue the columns that are not used. Also convert flux units, and add AB magnitudes."
   ]
  },
  {
   "cell_type": "code",
   "execution_count": 85,
   "metadata": {},
   "outputs": [],
   "source": [
    "cat = cat1.copy()  "
   ]
  },
  {
   "cell_type": "code",
   "execution_count": 86,
   "metadata": {},
   "outputs": [
    {
     "name": "stderr",
     "output_type": "stream",
     "text": [
      "ERROR: KeyError: 'Column ez_ssfr does not exist' [astropy.table.table]\n"
     ]
    },
    {
     "ename": "KeyError",
     "evalue": "'Column ez_ssfr does not exist'",
     "output_type": "error",
     "traceback": [
      "\u001b[0;31m---------------------------------------------------------------------------\u001b[0m",
      "\u001b[0;31mKeyError\u001b[0m                                  Traceback (most recent call last)",
      "\u001b[0;32m<ipython-input-86-f4306e8bcb38>\u001b[0m in \u001b[0;36m<module>\u001b[0;34m\u001b[0m\n\u001b[1;32m      1\u001b[0m \u001b[0;31m# optional: keep only the most commonly used columns (total FLUX, error bars, RA, DEC...)\u001b[0m\u001b[0;34m\u001b[0m\u001b[0;34m\u001b[0m\u001b[0;34m\u001b[0m\u001b[0m\n\u001b[0;32m----> 2\u001b[0;31m cat.keep_columns(['ID','ALPHA_J2000','DELTA_J2000']+\n\u001b[0m\u001b[1;32m      3\u001b[0m                  \u001b[0;34m[\u001b[0m\u001b[0mi\u001b[0m\u001b[0;34m+\u001b[0m\u001b[0;34m'_FLUX'\u001b[0m \u001b[0;32mfor\u001b[0m \u001b[0mi\u001b[0m \u001b[0;32min\u001b[0m \u001b[0mfilt_use\u001b[0m\u001b[0;34m]\u001b[0m\u001b[0;34m+\u001b[0m\u001b[0;34m[\u001b[0m\u001b[0mi\u001b[0m\u001b[0;34m+\u001b[0m\u001b[0;34m'_FLUXERR'\u001b[0m \u001b[0;32mfor\u001b[0m \u001b[0mi\u001b[0m \u001b[0;32min\u001b[0m \u001b[0mfilt_use\u001b[0m\u001b[0;34m]\u001b[0m\u001b[0;34m+\u001b[0m\u001b[0;34m\u001b[0m\u001b[0;34m\u001b[0m\u001b[0m\n\u001b[1;32m      4\u001b[0m                  ['FLAG_HSC', 'FLAG_SUPCAM','EBV_MW','lp_zBEST','lp_type','lp_zPDF_l68',\n\u001b[1;32m      5\u001b[0m                   \u001b[0;34m'lp_zPDF_u68'\u001b[0m\u001b[0;34m,\u001b[0m\u001b[0;34m'lp_zMinChi2'\u001b[0m\u001b[0;34m,\u001b[0m\u001b[0;34m'lp_chi2_best'\u001b[0m\u001b[0;34m,\u001b[0m\u001b[0;34m\u001b[0m\u001b[0;34m\u001b[0m\u001b[0m\n",
      "\u001b[0;32m~/anaconda3/lib/python3.8/site-packages/astropy/table/table.py\u001b[0m in \u001b[0;36mkeep_columns\u001b[0;34m(self, names)\u001b[0m\n\u001b[1;32m   2761\u001b[0m         \u001b[0;32mfor\u001b[0m \u001b[0mname\u001b[0m \u001b[0;32min\u001b[0m \u001b[0mnames\u001b[0m\u001b[0;34m:\u001b[0m\u001b[0;34m\u001b[0m\u001b[0;34m\u001b[0m\u001b[0m\n\u001b[1;32m   2762\u001b[0m             \u001b[0;32mif\u001b[0m \u001b[0mname\u001b[0m \u001b[0;32mnot\u001b[0m \u001b[0;32min\u001b[0m \u001b[0mself\u001b[0m\u001b[0;34m.\u001b[0m\u001b[0mcolumns\u001b[0m\u001b[0;34m:\u001b[0m\u001b[0;34m\u001b[0m\u001b[0;34m\u001b[0m\u001b[0m\n\u001b[0;32m-> 2763\u001b[0;31m                 \u001b[0;32mraise\u001b[0m \u001b[0mKeyError\u001b[0m\u001b[0;34m(\u001b[0m\u001b[0;34mf\"Column {name} does not exist\"\u001b[0m\u001b[0;34m)\u001b[0m\u001b[0;34m\u001b[0m\u001b[0;34m\u001b[0m\u001b[0m\n\u001b[0m\u001b[1;32m   2764\u001b[0m \u001b[0;34m\u001b[0m\u001b[0m\n\u001b[1;32m   2765\u001b[0m         \u001b[0mremove\u001b[0m \u001b[0;34m=\u001b[0m \u001b[0mlist\u001b[0m\u001b[0;34m(\u001b[0m\u001b[0mset\u001b[0m\u001b[0;34m(\u001b[0m\u001b[0mself\u001b[0m\u001b[0;34m.\u001b[0m\u001b[0mkeys\u001b[0m\u001b[0;34m(\u001b[0m\u001b[0;34m)\u001b[0m\u001b[0;34m)\u001b[0m \u001b[0;34m-\u001b[0m \u001b[0mset\u001b[0m\u001b[0;34m(\u001b[0m\u001b[0mnames\u001b[0m\u001b[0;34m)\u001b[0m\u001b[0;34m)\u001b[0m\u001b[0;34m\u001b[0m\u001b[0;34m\u001b[0m\u001b[0m\n",
      "\u001b[0;31mKeyError\u001b[0m: 'Column ez_ssfr does not exist'"
     ]
    }
   ],
   "source": [
    "# optional: keep only the most commonly used columns (total FLUX, error bars, RA, DEC...)\n",
    "cat.keep_columns(['ID','ALPHA_J2000','DELTA_J2000']+\n",
    "                 [i+'_FLUX' for i in filt_use]+[i+'_FLUXERR' for i in filt_use]+\n",
    "                 ['FLAG_HSC', 'FLAG_SUPCAM','EBV_MW','lp_zBEST','lp_type','lp_zPDF_l68',\n",
    "                  'lp_zPDF_u68','lp_zMinChi2','lp_chi2_best',\n",
    "                  'lp_model','lp_age','lp_dust','lp_Attenuation','lp_zp_2','lp_chi2_2',\n",
    "                  'lp_zq','lp_chiq','lp_chis','lp_mask']+\n",
    "                 ['lp_MU','lp_MG','lp_MR','lp_MJ','lp_mass_med','lp_mass_med_min68','lp_mass_med_max68',\n",
    "                  'lp_SFR_med','lp_SFR_med_min68','lp_SFR_med_max68','lp_SFR_best','lp_mass_best']+\n",
    "                 ['ez_z_phot','ez_z_phot_chi2','ez_z_phot_risk','ez_z_min_risk','ez_min_risk',\n",
    "                 'ez_z025','ez_z160','ez_z500','ez_z840','ez_z975','ez_star_min_chi2']+\n",
    "                 ['ez_restU','ez_restB','ez_restV','ez_restJ','ez_mass','ez_sfr',\n",
    "                  'ez_LHa','ez_LOII','ez_Av','ez_lwAgeV','ez_ssfr_p500'] +\n",
    "                 ['ez_mass160','ez_mass840','ez_sfr160','ez_sfr840','ez_ssfr160','ez_ssfr840',\n",
    "                 'ez_LOII160','ez_LOII840']\n",
    "         )"
   ]
  },
  {
   "cell_type": "code",
   "execution_count": 73,
   "metadata": {},
   "outputs": [
    {
     "name": "stderr",
     "output_type": "stream",
     "text": [
      "<ipython-input-73-f07f9ba75eb4>:4: RuntimeWarning: invalid value encountered in log10\n",
      "  mag = -2.5*np.log10(cat[b+'_FLUX'].data) + m0  # log of negative flux is masked\n"
     ]
    }
   ],
   "source": [
    "# optional: magnitudes in AB system\n",
    "m0 = +23.9  # fluxes in the catalog are in microJansky\n",
    "for b in filt_use:\n",
    "    mag = -2.5*np.log10(cat[b+'_FLUX'].data) + m0  # log of negative flux is masked\n",
    "    cat.add_column(mag.filled(np.nan),name=b+'_MAG')  # negative flux becomes NaN "
   ]
  },
  {
   "cell_type": "code",
   "execution_count": 74,
   "metadata": {},
   "outputs": [],
   "source": [
    "# flux conversion from uJy to erg/cm2/s/Hz\n",
    "if outflx=='cgs':\n",
    "    for b in filt_use:\n",
    "        cat[b+'_FLUX'] *= 1e-29\n",
    "        cat[b+'_FLUX'].unit = u.erg/u.cm/u.cm/u.s/u.Hz\n",
    "        cat[b+'_FLUXERR'] *= 1e-29\n",
    "        cat[b+'_FLUXERR'].unit = u.erg/u.cm/u.cm/u.s/u.Hz"
   ]
  },
  {
   "cell_type": "markdown",
   "metadata": {},
   "source": [
    "One may want to **rename some columns** in a more user-friendly fashion. For example, the reference photo-z estimates (the ones to use in most of the cases) are originally named `lp_zBEST` for *LePhare* and `ez_z_phot` for *EAZY*. Once chosen the version, it is convenient to change the correspondent column to a standard name (e.g., `photoz`) so that the rest of the Notebook will work either way.  "
   ]
  },
  {
   "cell_type": "code",
   "execution_count": 75,
   "metadata": {},
   "outputs": [],
   "source": [
    "cat.rename_column('lp_zBEST', 'photoz') \n",
    "cat.rename_column('ALPHA_J2000','RA')\n",
    "cat.rename_column('DELTA_J2000','DEC')"
   ]
  },
  {
   "cell_type": "code",
   "execution_count": 26,
   "metadata": {},
   "outputs": [
    {
     "name": "stderr",
     "output_type": "stream",
     "text": [
      "ERROR: NameError: name 'cat' is not defined [IPython.core.interactiveshell]\n"
     ]
    },
    {
     "ename": "NameError",
     "evalue": "name 'cat' is not defined",
     "output_type": "error",
     "traceback": [
      "\u001b[0;31m---------------------------------------------------------------------------\u001b[0m",
      "\u001b[0;31mNameError\u001b[0m                                 Traceback (most recent call last)",
      "\u001b[0;32m<ipython-input-26-078cbd098802>\u001b[0m in \u001b[0;36m<module>\u001b[0;34m\u001b[0m\n\u001b[1;32m      1\u001b[0m \u001b[0;31m# Save the re-formatted table as a FITS file.\u001b[0m\u001b[0;34m\u001b[0m\u001b[0;34m\u001b[0m\u001b[0;34m\u001b[0m\u001b[0m\n\u001b[0;32m----> 2\u001b[0;31m \u001b[0mcat\u001b[0m\u001b[0;34m.\u001b[0m\u001b[0mwrite\u001b[0m\u001b[0;34m(\u001b[0m\u001b[0mdir_out\u001b[0m\u001b[0;34m+\u001b[0m\u001b[0;34m'COSMOS2020_{}_processed.fits'\u001b[0m\u001b[0;34m.\u001b[0m\u001b[0mformat\u001b[0m\u001b[0;34m(\u001b[0m\u001b[0mcatversion\u001b[0m\u001b[0;34m)\u001b[0m\u001b[0;34m,\u001b[0m\u001b[0moverwrite\u001b[0m\u001b[0;34m=\u001b[0m\u001b[0;32mTrue\u001b[0m\u001b[0;34m)\u001b[0m\u001b[0;34m\u001b[0m\u001b[0;34m\u001b[0m\u001b[0m\n\u001b[0m",
      "\u001b[0;31mNameError\u001b[0m: name 'cat' is not defined"
     ]
    }
   ],
   "source": [
    "# Save the re-formatted table as a FITS file. \n",
    "cat.write(dir_out+'COSMOS2020_{}_processed.fits'.format(catversion),overwrite=True)"
   ]
  },
  {
   "cell_type": "markdown",
   "metadata": {},
   "source": [
    "----------------------- \n",
    "## Visualization of the catalogue's main features"
   ]
  },
  {
   "cell_type": "markdown",
   "metadata": {},
   "source": [
    "We start with printing some stats. The main photoz column (e.g., `lp_zBEST` now renamed `photoz`) tells which class the object belongs to:\n",
    "- $z=$ for stars (classification criteria described in Sect. TBD of W+21)\n",
    "- $0<z\\leq10$ for galaxies\n",
    "- $z=99$ for AGN (with the actual redshift stored in the `lp_zq` column)"
   ]
  },
  {
   "cell_type": "code",
   "execution_count": 27,
   "metadata": {
    "scrolled": true
   },
   "outputs": [
    {
     "name": "stderr",
     "output_type": "stream",
     "text": [
      "ERROR: NameError: name 'cat' is not defined [IPython.core.interactiveshell]\n"
     ]
    },
    {
     "ename": "NameError",
     "evalue": "name 'cat' is not defined",
     "output_type": "error",
     "traceback": [
      "\u001b[0;31m---------------------------------------------------------------------------\u001b[0m",
      "\u001b[0;31mNameError\u001b[0m                                 Traceback (most recent call last)",
      "\u001b[0;32m<ipython-input-27-6a81afb19188>\u001b[0m in \u001b[0;36m<module>\u001b[0;34m\u001b[0m\n\u001b[0;32m----> 1\u001b[0;31m \u001b[0mnsrc\u001b[0m \u001b[0;34m=\u001b[0m \u001b[0mlen\u001b[0m\u001b[0;34m(\u001b[0m\u001b[0mcat\u001b[0m\u001b[0;34m)\u001b[0m\u001b[0;34m\u001b[0m\u001b[0;34m\u001b[0m\u001b[0m\n\u001b[0m\u001b[1;32m      2\u001b[0m \u001b[0mprint\u001b[0m\u001b[0;34m(\u001b[0m\u001b[0;34m'This catalogue has'\u001b[0m\u001b[0;34m,\u001b[0m\u001b[0mnsrc\u001b[0m\u001b[0;34m,\u001b[0m\u001b[0;34m'sources: '\u001b[0m\u001b[0;34m)\u001b[0m\u001b[0;34m\u001b[0m\u001b[0;34m\u001b[0m\u001b[0m\n\u001b[1;32m      3\u001b[0m \u001b[0mprint\u001b[0m\u001b[0;34m(\u001b[0m\u001b[0;34m' - unreliable/corrupted ones = '\u001b[0m\u001b[0;34m,\u001b[0m\u001b[0mnp\u001b[0m\u001b[0;34m.\u001b[0m\u001b[0mcount_nonzero\u001b[0m\u001b[0;34m(\u001b[0m\u001b[0mcat\u001b[0m\u001b[0;34m[\u001b[0m\u001b[0;34m'lp_type'\u001b[0m\u001b[0;34m]\u001b[0m\u001b[0;34m<\u001b[0m\u001b[0;36m0.\u001b[0m\u001b[0;34m)\u001b[0m\u001b[0;34m)\u001b[0m\u001b[0;34m\u001b[0m\u001b[0;34m\u001b[0m\u001b[0m\n\u001b[1;32m      4\u001b[0m \u001b[0mprint\u001b[0m\u001b[0;34m(\u001b[0m\u001b[0;34m' - photometric stars = '\u001b[0m\u001b[0;34m,\u001b[0m\u001b[0mnp\u001b[0m\u001b[0;34m.\u001b[0m\u001b[0mcount_nonzero\u001b[0m\u001b[0;34m(\u001b[0m\u001b[0mcat\u001b[0m\u001b[0;34m[\u001b[0m\u001b[0;34m'lp_type'\u001b[0m\u001b[0;34m]\u001b[0m\u001b[0;34m==\u001b[0m\u001b[0;36m1\u001b[0m\u001b[0;34m)\u001b[0m\u001b[0;34m)\u001b[0m\u001b[0;34m\u001b[0m\u001b[0;34m\u001b[0m\u001b[0m\n\u001b[1;32m      5\u001b[0m \u001b[0mprint\u001b[0m\u001b[0;34m(\u001b[0m\u001b[0;34m' - photometric galaxies = '\u001b[0m\u001b[0;34m,\u001b[0m\u001b[0mnp\u001b[0m\u001b[0;34m.\u001b[0m\u001b[0mcount_nonzero\u001b[0m\u001b[0;34m(\u001b[0m\u001b[0mcat\u001b[0m\u001b[0;34m[\u001b[0m\u001b[0;34m'lp_type'\u001b[0m\u001b[0;34m]\u001b[0m\u001b[0;34m==\u001b[0m\u001b[0;36m0\u001b[0m\u001b[0;34m)\u001b[0m\u001b[0;34m)\u001b[0m\u001b[0;34m\u001b[0m\u001b[0;34m\u001b[0m\u001b[0m\n",
      "\u001b[0;31mNameError\u001b[0m: name 'cat' is not defined"
     ]
    }
   ],
   "source": [
    "nsrc = len(cat)\n",
    "print('This catalogue has',nsrc,'sources: ')\n",
    "print(' - unreliable/corrupted ones = ',np.count_nonzero(cat['lp_type']<0.))\n",
    "print(' - photometric stars = ',np.count_nonzero(cat['lp_type']==1))\n",
    "print(' - photometric galaxies = ',np.count_nonzero(cat['lp_type']==0))\n",
    "print(' -- plus other {} objects that are classified as X-ray AGN'.format(np.count_nonzero(cat['lp_type']==2))) \n",
    "print('\\nThis catalogue has',len(cat.columns),'columns')\n",
    "zmin = min(cat['photoz'][cat['photoz']>0.])  \n",
    "zmax = max(cat['photoz'][cat['photoz']<99.])  \n",
    "print('Redshift range {:.2f}<zphot<{:.2f}'.format(zmin,zmax))\n",
    "ramin = min(cat['RA']); ramax = max(cat['RA'])\n",
    "decmin = min(cat['DEC']); decmax = max(cat['DEC'])\n",
    "print('Area covered [deg]: {:.6f}<RA<{:.6f} & {:.6f}<Dec<{:.6f}'.format(ramin,ramax,decmin,decmax))\n"
   ]
  },
  {
   "cell_type": "markdown",
   "metadata": {},
   "source": [
    "A quick sky projection "
   ]
  },
  {
   "cell_type": "code",
   "execution_count": 28,
   "metadata": {
    "scrolled": true
   },
   "outputs": [
    {
     "name": "stderr",
     "output_type": "stream",
     "text": [
      "ERROR: NameError: name 'nsrc' is not defined [IPython.core.interactiveshell]\n"
     ]
    },
    {
     "ename": "NameError",
     "evalue": "name 'nsrc' is not defined",
     "output_type": "error",
     "traceback": [
      "\u001b[0;31m---------------------------------------------------------------------------\u001b[0m",
      "\u001b[0;31mNameError\u001b[0m                                 Traceback (most recent call last)",
      "\u001b[0;32m<ipython-input-28-c4c3fa5a11bc>\u001b[0m in \u001b[0;36m<module>\u001b[0;34m\u001b[0m\n\u001b[1;32m      1\u001b[0m \u001b[0;31m# Select a random subsample for sake of clarity\u001b[0m\u001b[0;34m\u001b[0m\u001b[0;34m\u001b[0m\u001b[0;34m\u001b[0m\u001b[0m\n\u001b[0;32m----> 2\u001b[0;31m \u001b[0ma\u001b[0m \u001b[0;34m=\u001b[0m \u001b[0mnp\u001b[0m\u001b[0;34m.\u001b[0m\u001b[0mrandom\u001b[0m\u001b[0;34m.\u001b[0m\u001b[0mrandint\u001b[0m\u001b[0;34m(\u001b[0m\u001b[0;36m0\u001b[0m\u001b[0;34m,\u001b[0m\u001b[0mnsrc\u001b[0m\u001b[0;34m,\u001b[0m\u001b[0msize\u001b[0m\u001b[0;34m=\u001b[0m\u001b[0;36m20000\u001b[0m\u001b[0;34m)\u001b[0m\u001b[0;34m\u001b[0m\u001b[0;34m\u001b[0m\u001b[0m\n\u001b[0m\u001b[1;32m      3\u001b[0m \u001b[0mplt\u001b[0m\u001b[0;34m.\u001b[0m\u001b[0mscatter\u001b[0m\u001b[0;34m(\u001b[0m\u001b[0mcat\u001b[0m\u001b[0;34m[\u001b[0m\u001b[0;34m'RA'\u001b[0m\u001b[0;34m]\u001b[0m\u001b[0;34m[\u001b[0m\u001b[0ma\u001b[0m\u001b[0;34m]\u001b[0m\u001b[0;34m,\u001b[0m\u001b[0mcat\u001b[0m\u001b[0;34m[\u001b[0m\u001b[0;34m'DEC'\u001b[0m\u001b[0;34m]\u001b[0m\u001b[0;34m[\u001b[0m\u001b[0ma\u001b[0m\u001b[0;34m]\u001b[0m\u001b[0;34m,\u001b[0m\u001b[0mcolor\u001b[0m\u001b[0;34m=\u001b[0m\u001b[0;34m'k'\u001b[0m\u001b[0;34m,\u001b[0m\u001b[0ms\u001b[0m\u001b[0;34m=\u001b[0m\u001b[0;36m0.4\u001b[0m\u001b[0;34m,\u001b[0m\u001b[0malpha\u001b[0m\u001b[0;34m=\u001b[0m\u001b[0;36m0.3\u001b[0m\u001b[0;34m)\u001b[0m\u001b[0;34m\u001b[0m\u001b[0;34m\u001b[0m\u001b[0m\n\u001b[1;32m      4\u001b[0m \u001b[0mplt\u001b[0m\u001b[0;34m.\u001b[0m\u001b[0mxlim\u001b[0m\u001b[0;34m(\u001b[0m\u001b[0mramax\u001b[0m\u001b[0;34m,\u001b[0m\u001b[0mramin\u001b[0m\u001b[0;34m)\u001b[0m\u001b[0;34m\u001b[0m\u001b[0;34m\u001b[0m\u001b[0m\n\u001b[1;32m      5\u001b[0m \u001b[0mplt\u001b[0m\u001b[0;34m.\u001b[0m\u001b[0mylim\u001b[0m\u001b[0;34m(\u001b[0m\u001b[0mdecmin\u001b[0m\u001b[0;34m,\u001b[0m\u001b[0mdecmax\u001b[0m\u001b[0;34m)\u001b[0m\u001b[0;34m\u001b[0m\u001b[0;34m\u001b[0m\u001b[0m\n",
      "\u001b[0;31mNameError\u001b[0m: name 'nsrc' is not defined"
     ]
    }
   ],
   "source": [
    "# Select a random subsample for sake of clarity\n",
    "a = np.random.randint(0,nsrc,size=20000)\n",
    "plt.scatter(cat['RA'][a],cat['DEC'][a],color='k',s=0.4,alpha=0.3)\n",
    "plt.xlim(ramax,ramin)\n",
    "plt.ylim(decmin,decmax)\n",
    "plt.xlabel('Right Ascension[°]')\n",
    "plt.ylabel('Declination[°]')\n",
    "plt.show()"
   ]
  },
  {
   "cell_type": "markdown",
   "metadata": {},
   "source": [
    "Redshift distributions and GzK diagram.\n",
    "`lp_zp_2` is the secondary photoz solution in LePhare.\n",
    "`lp_zq` is the photoz solution in LePhare using QSO/AGN templates. "
   ]
  },
  {
   "cell_type": "code",
   "execution_count": 29,
   "metadata": {},
   "outputs": [
    {
     "name": "stderr",
     "output_type": "stream",
     "text": [
      "ERROR: NameError: name 'cat' is not defined [IPython.core.interactiveshell]\n"
     ]
    },
    {
     "ename": "NameError",
     "evalue": "name 'cat' is not defined",
     "output_type": "error",
     "traceback": [
      "\u001b[0;31m---------------------------------------------------------------------------\u001b[0m",
      "\u001b[0;31mNameError\u001b[0m                                 Traceback (most recent call last)",
      "\u001b[0;32m<ipython-input-29-4054eb9cbc8e>\u001b[0m in \u001b[0;36m<module>\u001b[0;34m\u001b[0m\n\u001b[0;32m----> 1\u001b[0;31m \u001b[0mplt\u001b[0m\u001b[0;34m.\u001b[0m\u001b[0mhist\u001b[0m\u001b[0;34m(\u001b[0m\u001b[0mcat\u001b[0m\u001b[0;34m[\u001b[0m\u001b[0;34m'photoz'\u001b[0m\u001b[0;34m]\u001b[0m\u001b[0;34m,\u001b[0m\u001b[0mrange\u001b[0m\u001b[0;34m=\u001b[0m\u001b[0;34m(\u001b[0m\u001b[0;36m0.01\u001b[0m\u001b[0;34m,\u001b[0m\u001b[0;36m10\u001b[0m\u001b[0;34m)\u001b[0m\u001b[0;34m,\u001b[0m\u001b[0mlog\u001b[0m\u001b[0;34m=\u001b[0m\u001b[0;32mFalse\u001b[0m\u001b[0;34m,\u001b[0m\u001b[0mbins\u001b[0m\u001b[0;34m=\u001b[0m\u001b[0;36m50\u001b[0m\u001b[0;34m,\u001b[0m\u001b[0mdensity\u001b[0m\u001b[0;34m=\u001b[0m\u001b[0;32mTrue\u001b[0m\u001b[0;34m,\u001b[0m\u001b[0mcolor\u001b[0m \u001b[0;34m=\u001b[0m\u001b[0;34m'grey'\u001b[0m\u001b[0;34m,\u001b[0m\u001b[0malpha\u001b[0m\u001b[0;34m=\u001b[0m\u001b[0;36m0.5\u001b[0m\u001b[0;34m,\u001b[0m\u001b[0mlabel\u001b[0m \u001b[0;34m=\u001b[0m \u001b[0;34m'Z_BEST'\u001b[0m\u001b[0;34m)\u001b[0m\u001b[0;34m\u001b[0m\u001b[0;34m\u001b[0m\u001b[0m\n\u001b[0m\u001b[1;32m      2\u001b[0m \u001b[0mplt\u001b[0m\u001b[0;34m.\u001b[0m\u001b[0mhist\u001b[0m\u001b[0;34m(\u001b[0m\u001b[0mcat\u001b[0m\u001b[0;34m[\u001b[0m\u001b[0;34m'lp_zp_2'\u001b[0m\u001b[0;34m]\u001b[0m\u001b[0;34m,\u001b[0m\u001b[0mrange\u001b[0m\u001b[0;34m=\u001b[0m\u001b[0;34m(\u001b[0m\u001b[0;36m0.01\u001b[0m\u001b[0;34m,\u001b[0m\u001b[0;36m10\u001b[0m\u001b[0;34m)\u001b[0m\u001b[0;34m,\u001b[0m\u001b[0mlog\u001b[0m\u001b[0;34m=\u001b[0m\u001b[0;32mFalse\u001b[0m\u001b[0;34m,\u001b[0m\u001b[0mbins\u001b[0m\u001b[0;34m=\u001b[0m\u001b[0;36m50\u001b[0m\u001b[0;34m,\u001b[0m\u001b[0mdensity\u001b[0m\u001b[0;34m=\u001b[0m\u001b[0;32mTrue\u001b[0m\u001b[0;34m,\u001b[0m\u001b[0mcolor\u001b[0m \u001b[0;34m=\u001b[0m\u001b[0;34m'orange'\u001b[0m\u001b[0;34m,\u001b[0m\u001b[0mhisttype\u001b[0m\u001b[0;34m=\u001b[0m\u001b[0;34m'step'\u001b[0m\u001b[0;34m,\u001b[0m\u001b[0mlabel\u001b[0m \u001b[0;34m=\u001b[0m \u001b[0;34m'Z_SEC'\u001b[0m\u001b[0;34m)\u001b[0m\u001b[0;34m\u001b[0m\u001b[0;34m\u001b[0m\u001b[0m\n\u001b[1;32m      3\u001b[0m \u001b[0mplt\u001b[0m\u001b[0;34m.\u001b[0m\u001b[0mhist\u001b[0m\u001b[0;34m(\u001b[0m\u001b[0mcat\u001b[0m\u001b[0;34m[\u001b[0m\u001b[0;34m'lp_zq'\u001b[0m\u001b[0;34m]\u001b[0m\u001b[0;34m[\u001b[0m\u001b[0mcat\u001b[0m\u001b[0;34m[\u001b[0m\u001b[0;34m'lp_type'\u001b[0m\u001b[0;34m]\u001b[0m\u001b[0;34m==\u001b[0m\u001b[0;36m2\u001b[0m\u001b[0;34m]\u001b[0m\u001b[0;34m,\u001b[0m\u001b[0mrange\u001b[0m\u001b[0;34m=\u001b[0m\u001b[0;34m(\u001b[0m\u001b[0;36m0.01\u001b[0m\u001b[0;34m,\u001b[0m\u001b[0;36m10\u001b[0m\u001b[0;34m)\u001b[0m\u001b[0;34m,\u001b[0m\u001b[0mlog\u001b[0m\u001b[0;34m=\u001b[0m\u001b[0;32mFalse\u001b[0m\u001b[0;34m,\u001b[0m\u001b[0mbins\u001b[0m\u001b[0;34m=\u001b[0m\u001b[0;36m50\u001b[0m\u001b[0;34m,\u001b[0m\u001b[0mdensity\u001b[0m\u001b[0;34m=\u001b[0m\u001b[0;32mTrue\u001b[0m\u001b[0;34m,\u001b[0m\u001b[0mcolor\u001b[0m \u001b[0;34m=\u001b[0m\u001b[0;34m'blue'\u001b[0m\u001b[0;34m,\u001b[0m\u001b[0malpha\u001b[0m\u001b[0;34m=\u001b[0m\u001b[0;36m0.5\u001b[0m\u001b[0;34m,\u001b[0m\u001b[0mlabel\u001b[0m \u001b[0;34m=\u001b[0m \u001b[0;34m'Z_AGN'\u001b[0m\u001b[0;34m,\u001b[0m\u001b[0mhisttype\u001b[0m\u001b[0;34m=\u001b[0m\u001b[0;34m'step'\u001b[0m\u001b[0;34m)\u001b[0m\u001b[0;34m\u001b[0m\u001b[0;34m\u001b[0m\u001b[0m\n\u001b[1;32m      4\u001b[0m \u001b[0mplt\u001b[0m\u001b[0;34m.\u001b[0m\u001b[0mtitle\u001b[0m\u001b[0;34m(\u001b[0m\u001b[0;34m'Galaxy redshift distribution'\u001b[0m\u001b[0;34m)\u001b[0m\u001b[0;34m\u001b[0m\u001b[0;34m\u001b[0m\u001b[0m\n\u001b[1;32m      5\u001b[0m \u001b[0mplt\u001b[0m\u001b[0;34m.\u001b[0m\u001b[0mxlabel\u001b[0m\u001b[0;34m(\u001b[0m\u001b[0;34m'photo-z'\u001b[0m\u001b[0;34m)\u001b[0m\u001b[0;34m\u001b[0m\u001b[0;34m\u001b[0m\u001b[0m\n",
      "\u001b[0;31mNameError\u001b[0m: name 'cat' is not defined"
     ]
    }
   ],
   "source": [
    "plt.hist(cat['photoz'],range=(0.01,10),log=False,bins=50,density=True,color ='grey',alpha=0.5,label = 'Z_BEST')\n",
    "plt.hist(cat['lp_zp_2'],range=(0.01,10),log=False,bins=50,density=True,color ='orange',histtype='step',label = 'Z_SEC')\n",
    "plt.hist(cat['lp_zq'][cat['lp_type']==2],range=(0.01,10),log=False,bins=50,density=True,color ='blue',alpha=0.5,label = 'Z_AGN',histtype='step')\n",
    "plt.title('Galaxy redshift distribution')\n",
    "plt.xlabel('photo-z')\n",
    "plt.ylabel('normalized counts')\n",
    "plt.legend(bbox_to_anchor=(1.04,0),loc='lower left') \n",
    "plt.show()\n",
    "\n",
    "color1 = cat['HSC_g_MAG'] - cat['HSC_z_MAG']\n",
    "color2 = cat['HSC_z_MAG'] - cat['UVISTA_Ks_MAG']\n",
    "zmap = cat['photoz']\n",
    "sel = (cat['photoz']>=0.) & (cat['photoz']<6.) & (cat['UVISTA_Ks_MAG']<24.5)\n",
    "plt.scatter(color1[sel],color2[sel],c=zmap[sel],cmap='hot',s=0.4,alpha=0.3)\n",
    "plt.xlim(-2,5)\n",
    "plt.ylim(-2,5)\n",
    "cbar=plt.colorbar()\n",
    "cbar.set_label('photo-z')\n",
    "plt.xlabel('g-z')\n",
    "plt.ylabel('z-Ks')\n",
    "\n",
    "plt.title('g-z-K diagram and redshift map')\n",
    "plt.show()\n",
    "    \n"
   ]
  },
  {
   "cell_type": "markdown",
   "metadata": {},
   "source": [
    "Show the galaxy models from Bruzual & Charlot (2003) that have been used in *LePhare* to measure physical quantities. These are the basic (dust-free) templates in the rest-frame reference system, stored in an acillary file with HDF5 format. The instrinsic models are modified a-posteriori by adding redshift, dust attenuation, intervening IGM absorption. \n",
    "\n",
    "**Structure of the HDF5 file:** each BC03 model is a dataset (`/model1`,`/model2`, etc.) with a list of spectra (e.g., `/model1/spectra`) defined at the wavelength points stored in the attribute `lambda[AA]`. The number of spectra correspond to the number of ages stored in the attribute 'age' for each model dataset."
   ]
  },
  {
   "cell_type": "code",
   "execution_count": 30,
   "metadata": {},
   "outputs": [],
   "source": [
    "hdf = h5py.File(\"COSMOS2020_LePhare_v2_20210507_LIB_COMB.hdf5\",\"r\")"
   ]
  },
  {
   "cell_type": "code",
   "execution_count": 31,
   "metadata": {},
   "outputs": [],
   "source": [
    " def model_check(models,wvl,labels,title='SED templates (rest frame)'):\n",
    "    \n",
    "    \"\"\"\n",
    "    This function plots the SEDs (F_lambda vs lambda and F_nu vs lambda) \n",
    "    of the models specified by the user.    \n",
    "    \"\"\"\n",
    "    # from a matplotlib colormap, create RGB colors for the figure\n",
    "    cm = plt.get_cmap('gist_rainbow')\n",
    "    cc = [cm(1.*i/len(labels)) for i in range(len(labels))]\n",
    "\n",
    "    for i,f_lam in enumerate(models):\n",
    "        plt.plot(wvl,f_lam,color=cc[i],label=labels[i]) # This will plot the flux lambda  \n",
    "    plt.legend(bbox_to_anchor=(1.04,0),loc='lower left',ncol=3) \n",
    "    plt.title(title)\n",
    "    plt.yscale('log') \n",
    "    plt.xscale('log')\n",
    "    plt.xlim(800.,50000.) # focus on wvl range from UV to mid-IR\n",
    "    plt.ylim(1e-14,1e-7)\n",
    "    plt.xlabel('wavelength [Å]')\n",
    "    plt.ylabel('Flux [erg/cm^2/s/Å]')\n",
    "    plt.show()\n",
    "    \n",
    "    wvl *= u.AA # add units to ease conversion\n",
    "    for i,f_lam in enumerate(models):\n",
    "        f_lam *= u.erg/u.cm/u.cm/u.s/u.AA \n",
    "        f_nu = f_lam*(wvl**2)/const.c\n",
    "        f_nu = f_nu.to(u.erg/u.cm/u.cm/u.s/u.Hz) \n",
    "        plt.plot(wvl,f_nu,color=cc[i],label=labels[i])\n",
    "    plt.legend(bbox_to_anchor=(1.04,0),loc='lower left',ncol=3) \n",
    "    plt.title(title)\n",
    "    plt.yscale('log') \n",
    "    plt.xscale('log')\n",
    "    plt.xlim(800.,50000.)\n",
    "    plt.ylim(1e-26,1e-18)\n",
    "    plt.xlabel('wavelength [Å]')\n",
    "    plt.ylabel('Flux [erg/cm^2/s/Hz]')\n",
    "    plt.show()\n",
    "\n",
    "    \n"
   ]
  },
  {
   "cell_type": "code",
   "execution_count": 32,
   "metadata": {},
   "outputs": [
    {
     "data": {
      "image/png": "[encoded data removed]",
      "text/plain": [
       "<Figure size 432x288 with 1 Axes>"
      ]
     },
     "metadata": {
      "needs_background": "light"
     },
     "output_type": "display_data"
    },
    {
     "data": {
      "image/png": "[encoded data removed]",
      "text/plain": [
       "<Figure size 432x288 with 1 Axes>"
      ]
     },
     "metadata": {
      "needs_background": "light"
     },
     "output_type": "display_data"
    }
   ],
   "source": [
    "nmod = 3 # which model\n",
    "model_check(hdf['/model{}/spectra'.format(nmod)],hdf['/model{}/spectra'.format(nmod)].attrs['lambda[AA]'],\n",
    "            ['age={:.2f}'.format(i/1e9) for i in hdf['/model{}'.format(nmod)].attrs['age']],\n",
    "           title='BC03 model {}'.format(nmod))"
   ]
  },
  {
   "cell_type": "markdown",
   "metadata": {},
   "source": [
    "Show the observed SED of a given object, and overplot its BC03 template (after flux rescaling and dust attenuation). The template is the one resulting in the best fit (smallest $\\chi^2$) according to *LePhare*. The SED fitting code takes also into account the absorption of intervening ISM and the flux contamination by strong nebular emission lines. However, for sake of simplicity, those two elements are not included here in the Notebook.  \n",
    "\n",
    "To visualize *EAZY* templates, a different python script is available upon request to Gabriel Brammer ([contacts](https://gbrammer.github.io/))"
   ]
  },
  {
   "cell_type": "code",
   "execution_count": 33,
   "metadata": {},
   "outputs": [],
   "source": [
    "# we need this to compute luminosity distances\n",
    "cosmo = FlatLambdaCDM(H0=70, Om0=0.3)  \n",
    "# note that COSMOS2020 SED fitting assumes 'vanilla' cosmology"
   ]
  },
  {
   "cell_type": "code",
   "execution_count": 34,
   "metadata": {},
   "outputs": [],
   "source": [
    "def dust_ext(w,law=0,ebv=0.):\n",
    "    \n",
    "    law1 = np.loadtxt(\"SB_calzetti.dat\").T\n",
    "    law2 = np.loadtxt(\"extlaw_0.9.dat\").T\n",
    "    ext_w = [law1[0],law2[0]]\n",
    "    ext_k = [law1[1],law2[1]]\n",
    "    if ebv>0.:\n",
    "        k = np.interp(w,ext_w[law],ext_k[law])\n",
    "        return np.power(10.,-0.4*ebv*k)\n",
    "    else:\n",
    "        return 1.\n",
    "    "
   ]
  },
  {
   "cell_type": "code",
   "execution_count": 35,
   "metadata": {},
   "outputs": [
    {
     "name": "stderr",
     "output_type": "stream",
     "text": [
      "ERROR: NameError: name 'cat' is not defined [IPython.core.interactiveshell]\n"
     ]
    },
    {
     "ename": "NameError",
     "evalue": "name 'cat' is not defined",
     "output_type": "error",
     "traceback": [
      "\u001b[0;31m---------------------------------------------------------------------------\u001b[0m",
      "\u001b[0;31mNameError\u001b[0m                                 Traceback (most recent call last)",
      "\u001b[0;32m<ipython-input-35-821d81b988b7>\u001b[0m in \u001b[0;36m<module>\u001b[0;34m\u001b[0m\n\u001b[1;32m      1\u001b[0m \u001b[0mid_gal\u001b[0m \u001b[0;34m=\u001b[0m \u001b[0;36m354321\u001b[0m \u001b[0;31m# the ID number of the galaxy you want to plot; IDs are different for Farmer and Classic\u001b[0m\u001b[0;34m\u001b[0m\u001b[0;34m\u001b[0m\u001b[0m\n\u001b[0;32m----> 2\u001b[0;31m \u001b[0mnid\u001b[0m \u001b[0;34m=\u001b[0m \u001b[0mnp\u001b[0m\u001b[0;34m.\u001b[0m\u001b[0mwhere\u001b[0m\u001b[0;34m(\u001b[0m\u001b[0mcat\u001b[0m\u001b[0;34m[\u001b[0m\u001b[0;34m'ID'\u001b[0m\u001b[0;34m]\u001b[0m\u001b[0;34m==\u001b[0m\u001b[0mid_gal\u001b[0m\u001b[0;34m)\u001b[0m\u001b[0;34m[\u001b[0m\u001b[0;36m0\u001b[0m\u001b[0;34m]\u001b[0m\u001b[0;34m[\u001b[0m\u001b[0;36m0\u001b[0m\u001b[0;34m]\u001b[0m\u001b[0;34m\u001b[0m\u001b[0;34m\u001b[0m\u001b[0m\n\u001b[0m\u001b[1;32m      3\u001b[0m \u001b[0;34m\u001b[0m\u001b[0m\n\u001b[1;32m      4\u001b[0m \u001b[0mwl_obs\u001b[0m \u001b[0;34m=\u001b[0m \u001b[0mnp\u001b[0m\u001b[0;34m.\u001b[0m\u001b[0marray\u001b[0m\u001b[0;34m(\u001b[0m\u001b[0;34m[\u001b[0m\u001b[0mfilt_dict\u001b[0m\u001b[0;34m[\u001b[0m\u001b[0mi\u001b[0m\u001b[0;34m]\u001b[0m\u001b[0;34m[\u001b[0m\u001b[0;36m0\u001b[0m\u001b[0;34m]\u001b[0m \u001b[0;32mfor\u001b[0m \u001b[0mi\u001b[0m \u001b[0;32min\u001b[0m \u001b[0mfilt_use\u001b[0m\u001b[0;34m]\u001b[0m\u001b[0;34m)\u001b[0m  \u001b[0;31m# wavelength center of the filter used\u001b[0m\u001b[0;34m\u001b[0m\u001b[0;34m\u001b[0m\u001b[0m\n\u001b[1;32m      5\u001b[0m \u001b[0mwl_obserr\u001b[0m \u001b[0;34m=\u001b[0m \u001b[0mnp\u001b[0m\u001b[0;34m.\u001b[0m\u001b[0marray\u001b[0m\u001b[0;34m(\u001b[0m\u001b[0;34m[\u001b[0m\u001b[0mfilt_dict\u001b[0m\u001b[0;34m[\u001b[0m\u001b[0mi\u001b[0m\u001b[0;34m]\u001b[0m\u001b[0;34m[\u001b[0m\u001b[0;36m1\u001b[0m\u001b[0;34m]\u001b[0m \u001b[0;32mfor\u001b[0m \u001b[0mi\u001b[0m \u001b[0;32min\u001b[0m \u001b[0mfilt_use\u001b[0m\u001b[0;34m]\u001b[0m\u001b[0;34m)\u001b[0m\u001b[0;34m/\u001b[0m\u001b[0;36m2.\u001b[0m\u001b[0;34m\u001b[0m\u001b[0;34m\u001b[0m\u001b[0m\n",
      "\u001b[0;31mNameError\u001b[0m: name 'cat' is not defined"
     ]
    }
   ],
   "source": [
    "id_gal = 354321 # the ID number of the galaxy you want to plot; IDs are different for Farmer and Classic\n",
    "nid = np.where(cat['ID']==id_gal)[0][0]\n",
    "\n",
    "wl_obs = np.array([filt_dict[i][0] for i in filt_use])  # wavelength center of the filter used \n",
    "wl_obserr = np.array([filt_dict[i][1] for i in filt_use])/2.\n",
    "fnu_obs = np.array([cat[i+'_FLUX'][nid] for i in filt_use]) # Reads the measured magnitude at that wavelength\n",
    "fnu_obserr = np.array([cat[i+'_FLUXERR'][nid] for i in filt_use]) #Magnitude associated +/-error\n",
    "sel = fnu_obs>0.\n",
    "if cat['{}_FLUX'.format(filt_use[0])].unit.to_string()=='uJy':\n",
    "    plt.ylabel('Flux [$\\mu$Jy]')\n",
    "    plt.errorbar(wl_obs[sel],fnu_obs[sel],xerr=wl_obserr[sel],yerr=fnu_obserr[sel],fmt='.k', ecolor = 'k', capsize=3, elinewidth=1,zorder=2)\n",
    "    ymin = min(fnu_obs[sel])*0.5\n",
    "    ymax = max(fnu_obs[sel]+fnu_obserr[sel])*6\n",
    "else: # assuming it's cgs\n",
    "    plt.ylabel('Flux [$10^{-29}$ erg/cm$^2$/s/Hz]')\n",
    "    plt.errorbar(wl_obs[sel],fnu_obs[sel]*1e29,xerr=wl_obserr[sel],yerr=fnu_obserr[sel]*1e29,fmt='.k', ecolor = 'k', capsize=3, elinewidth=1,zorder=2)\n",
    "    ymin = min(fnu_obs[sel])*1e29*0.5\n",
    "    ymax = max(fnu_obs[sel]+fnu_obserr[sel])*1e29*6\n",
    "    \n",
    "# Using the redshift of best-fit template\n",
    "zp = cat['photoz'][nid] \n",
    "m = int(cat['lp_model'][nid])\n",
    "wvl = hdf['/model{}/spectra'.format(m)].attrs['lambda[AA]'] *u.AA \n",
    "t = np.abs(hdf['/model{}'.format(m)].attrs['age']-cat['lp_age'][nid]).argmin()\n",
    "flam_mod = hdf['/model{}/spectra'.format(m)][t,:] *u.erg/u.cm/u.cm/u.s/u.AA \n",
    "fnu_mod = flam_mod*(wvl**2)/const.c \n",
    "# Calculates the flux in units of [uJy] also applying dust ext\n",
    "fnu_mod = fnu_mod.to(u.erg/u.cm/u.cm/u.s/u.Hz) * dust_ext(wvl.value,law=cat['lp_Attenuation'][nid],ebv=cat['lp_dust'][nid]) \n",
    "# Rescale the template\n",
    "mscal = hdf['/model{}'.format(m)].attrs['mass'][t]/10**cat['lp_mass_best'][nid]  # luminosity/mass resc\n",
    "dm = cosmo.luminosity_distance(zp)/(10*u.pc)  # distance modulus\n",
    "offset = dm.decompose()**2*mscal/(1+zp) # all together * (1+z) factor\n",
    "# Plot the best-fit model \n",
    "plt.plot(wvl*(1+zp),fnu_mod.to(u.uJy).value/offset,color='red',alpha=1,label='model',zorder=1) \n",
    "\n",
    "# Show where nebular emission lines would potentially boost the flux\n",
    "plt.vlines(3727*(1+zp),ymin,ymax,label='[OII]',zorder=0,color='0.3',ls=':')\n",
    "plt.vlines(5007*(1+zp),ymin,ymax,label='[OIII]b',zorder=0,color='0.3',ls=':')\n",
    "plt.vlines(4861*(1+zp),ymin,ymax,label='Hb',zorder=0,color='0.3',ls=':') # H_beta\n",
    "plt.vlines(6563*(1+zp),ymin,ymax,label='Ha',zorder=0,color='0.3',ls=':') # H_alpha \n",
    "\n",
    "\n",
    "plt.xscale('log')\n",
    "plt.yscale('log')\n",
    "plt.xlim(1000,100000) \n",
    "plt.ylim(ymin,ymax)\n",
    "plt.xlabel('wavelength [Å]')\n",
    "\n",
    "\n",
    "print(\"The COSMOS fitted model is model number\",m)\n",
    "print('The offset applied is',offset,'and a redshift of',zp)\n",
    "plt.show()  "
   ]
  },
  {
   "cell_type": "markdown",
   "metadata": {},
   "source": [
    "----------------------------\n",
    "## Classic diagnostics\n",
    "\n",
    "Also useful to learn what columns contain the galaxy physical quantities.\n",
    "Columns for the *LePhare* version:\n",
    "- Absolute magnitudes have the `lp_M` prefix followed by the filter name in capital letters (e.g., `lp_MI` for the *i* band).\n",
    "- The most reliable stellar mass estimate is `lp_mass_med`, since it's the median of the PDF$(M_\\ast)$; `lp_mass_best` is the $M_\\ast$ of the best-fit template which is actually not the best to use.\n",
    "- Simliarly to $M_\\ast$, also the other physical quantities should be used in their `lp_{}_med` version (e.g., `lp_SFR_med`)\n",
    "\n",
    "**WARNING:** the SFR estimates included in the COSMOS2020 catalogs have not been thoroughly tested, and are not recommended for high-level scientific projects. Nonetheless, they can be useful for sanity checks like in this case. "
   ]
  },
  {
   "cell_type": "code",
   "execution_count": null,
   "metadata": {
    "scrolled": false
   },
   "outputs": [],
   "source": [
    "# Plot the NUV-r vs r-J diagram in a given z bin\n",
    "\n",
    "zlow=0.5\n",
    "zupp=0.8\n",
    "\n",
    "# Cut the K magnitude at K<24 to remove noisy galaxies and stellar sequence\n",
    "sel = (cat['UVISTA_Ks_MAG']<24) & (cat['photoz']<zupp) & (cat['photoz']>zlow) & (cat['lp_mass_med']>7)\n",
    "catselec=cat[sel]\n",
    "\n",
    "plt.scatter(catselec['lp_MR']-catselec['lp_MJ'],catselec['lp_MNUV']-catselec['lp_MR'],c=catselec['lp_SFR_med']-catselec['lp_mass_med'],s=0.3,alpha=0.05,cmap='hot',vmin=-12)\n",
    "plt.clim(-5,-12)\n",
    "clb = plt.colorbar()\n",
    "clb.set_label('Specific SFR')\n",
    "plt.ylim(-1,6.5)\n",
    "plt.xlim(-2,2)\n",
    "plt.xlabel('R-K')\n",
    "plt.ylabel('NUV-R')\n",
    "plt.title('NUV-R vs R-K plot')\n",
    "plt.show()"
   ]
  },
  {
   "cell_type": "code",
   "execution_count": null,
   "metadata": {},
   "outputs": [],
   "source": [
    "# Plot the SFR vs stellar mass diagram\n",
    "# WARNING: the SFR estimates from SED fitting without far-IR data (as in this case) are not particularly reliable, use them with caution\n",
    "plt.hexbin(catselec['lp_mass_med'],catselec['lp_SFR_med'],gridsize=(50,50),extent=(5,13,-7,4),mincnt=5)\n",
    "plt.ylim(-7,4)\n",
    "plt.xlim(6,13)\n",
    "plt.title('SFR vs Stellar mass')\n",
    "plt.ylabel('log SFR [$M_\\odot$/yr]')\n",
    "plt.xlabel('log Stellar mass [$M_\\odot$]')\n",
    "plt.show()"
   ]
  },
  {
   "cell_type": "markdown",
   "metadata": {},
   "source": [
    "--------------------------------------------------\n",
    "## A simple machine learning application: GMM\n",
    "\n",
    "Mixture models are probabilistic models that represent a number of subgroups within a population. **Gaussian mixture models (GMM)** do so by modelling the data set through a number of Gaussians (Duda et al., 1973). Its main assumption relies on the fact that all the data points within a certain data set can be generated from a mixture of a finite number of Gaussian distributions with unknown means and standard deviations. \n",
    "\n",
    "In this section we run the GMM algorithm on the COSMOS2020 galaxy sample, setting 4 Gaussian components that will divide the data in the same number of clusters (each data point being assigned to the cluster it has the most probability to belong to)."
   ]
  },
  {
   "cell_type": "code",
   "execution_count": null,
   "metadata": {},
   "outputs": [],
   "source": [
    "def mlinput(dat,colors,flux=False,cname=\"{}_MAG\",verbose=True):\n",
    "    \"\"\"\n",
    "    sominput(dat,colors,flux=False,cname=\"{}_MAG\",verbose=True)\n",
    "\n",
    "    This function helps preparing broad-band colors as input features \n",
    "    of a ML algorithm.\n",
    "\n",
    "    Parameters\n",
    "    ----------\n",
    "    dat : NxM astropy.Table with M magnitudes (or fluxes) for N objects\n",
    "    colors : list of str, each element is a pair of filters to compute colors (should be coherent with `dat` column names for filters)\n",
    "    flux : bool, set to True if `dat` contains fluxes instead of magnitudes\n",
    "    cname : str, format of the magnitude (or flux) column names\n",
    "    verbose : bool, set to True to print out more info\n",
    "\n",
    "    Output\n",
    "    ------\n",
    "    array to be used as input in ML applications; shape is N objects x M features\n",
    "    \"\"\"\n",
    "    ngal = len(dat)\n",
    "    ndim = len(colors)\n",
    "    if verbose: print('\\nDimensions of the param space:')\n",
    "    datin = np.empty([ngal,ndim])\n",
    "    # Prepare the colors\n",
    "    for i,col in enumerate(colors): \n",
    "        col1 = cname.format(col[0]); col2 = cname.format(col[1])\n",
    "        if verbose: print('dim#{} = '.format(i), col1,' - ',col2) #just a sanity check\n",
    "        if flux: \n",
    "            datin[:,i] = -2.5*np.log10(dat[col1]/dat[col2])\n",
    "            datin[:,i][(dat[col1]<0.)|(dat[col2]<0.)] = np.nan\n",
    "        else: \n",
    "            datin[:,i] = dat[col1]-dat[col2]\n",
    "            datin[:,i][(dat[col1]<0.)|(dat[col2]<0.)] = np.nan\n",
    "    return datin"
   ]
  },
  {
   "cell_type": "code",
   "execution_count": null,
   "metadata": {
    "scrolled": true
   },
   "outputs": [],
   "source": [
    "# Filters to use\n",
    "filt_pick = ['CFHT_u','HSC_g','HSC_r','HSC_i','HSC_z','UVISTA_Y','UVISTA_J','UVISTA_H','UVISTA_Ks','IRAC_CH1']\n",
    "# Colors to make\n",
    "color_pick = [(filt_pick[i],filt_pick[i+1]) for i in range(len(filt_pick)-1)] # just use pair-wise colors (u-g, g-r, r-i, etc.)\n",
    "# Create a parameter space of obs. fr. colors\n",
    "color_in = mlinput(cat[cat['lp_type']==0],color_pick,flux=True,cname='{}_FLUX')"
   ]
  },
  {
   "cell_type": "code",
   "execution_count": null,
   "metadata": {},
   "outputs": [],
   "source": [
    "# Run the GMM algorithm\n",
    "X = color_in[np.isfinite(color_in).all(axis=1)] # features, only for objects where all  of  themm are defined (no color is NaN or inf)\n",
    "Xplus = cat[cat['lp_type']==0][np.isfinite(color_in).all(axis=1)]  # extra info (photoz etc)\n",
    "\n",
    "gmm = mixture.GaussianMixture(n_components=4, covariance_type='full').fit(X)\n",
    "labels = gmm.predict(X)\n",
    "probs = gmm.predict_proba(X)\n",
    "print(gmm.aic(X))  # print the Akaike Information Criterion (AIC)"
   ]
  },
  {
   "cell_type": "code",
   "execution_count": null,
   "metadata": {},
   "outputs": [],
   "source": [
    "# Project the data in a color-color space, distinguishing the cluster classification\n",
    "plt.figure(figsize=(7,4))\n",
    "colA = 2; colB = -2\n",
    "plt.scatter(X[:, colA], X[:, colB], c=labels, s=0.3, cmap='Accent');\n",
    "plt.xlabel('{0}'.format(color_pick[colA]))\n",
    "plt.ylabel('{}'.format(color_pick[colB]))\n",
    "plt.xlim(-2,6)\n",
    "plt.ylim(-7,5)\n",
    "plt.show()"
   ]
  },
  {
   "cell_type": "code",
   "execution_count": null,
   "metadata": {
    "scrolled": false
   },
   "outputs": [],
   "source": [
    "# Show the redshift distribution of the GMM clusters\n",
    "for i in range(0,4):\n",
    "    sel = labels==i\n",
    "    catselec = Xplus[sel]\n",
    "    plt.hist(catselec['photoz'],bins=30,density=True,histtype='step',linewidth=2,label='CLuster #{}'.format(i+1))\n",
    "plt.legend(loc='upper right')\n",
    "plt.show()"
   ]
  },
  {
   "cell_type": "markdown",
   "metadata": {},
   "source": [
    "One of the main advantages of GMM is that the probabilistic description of the data distribution can be then used to create synthetic data samples. Although these \"mock\" samples do not have galaxy physical properties attached, they can be helpful for various tests (e.g. Monte Carlo extractions re-shuffling the photometry). "
   ]
  },
  {
   "cell_type": "code",
   "execution_count": null,
   "metadata": {},
   "outputs": [],
   "source": [
    "# Create 3 synthetic \"mocks\" of 500 galaxies each\n",
    "mocks = []\n",
    "for i in range(3):\n",
    "    modx = gmm.sample(n_samples=500)\n",
    "    mocks.append(modx)"
   ]
  },
  {
   "cell_type": "code",
   "execution_count": null,
   "metadata": {},
   "outputs": [],
   "source": [
    "# Just visualize one color distribution\n",
    "colA = 8\n",
    "\n",
    "# the mocks\n",
    "plt.hist(mocks[0][0][:,colA],bins=60,density=True,range=[-1,3],histtype='step',color='red',linewidth=2,alpha=1,label='Model 1')\n",
    "plt.hist(mocks[1][0][:,colA],bins=60,density=True,range=[-1,3],histtype='step',color='blue',linewidth=2,alpha=1,label='Model 2')\n",
    "plt.hist(mocks[2][0][:,colA],bins=60,density=True,range=[-1,3],histtype='step',color='green',linewidth=2,alpha=1,label='Model 3')\n",
    "\n",
    "# and the original data\n",
    "plt.hist(X[:,colA],bins=60,density=True,range=[-1,3],histtype='stepfilled',color='black',alpha=0.3,label='COSMOS2020')\n",
    "\n",
    "plt.legend(loc='upper right')\n",
    "plt.xlabel('{}-{} color'.format(color_pick[colA][0],color_pick[colA][1]))\n",
    "plt.ylabel('# of sources')\n",
    "plt.show()"
   ]
  },
  {
   "cell_type": "code",
   "execution_count": null,
   "metadata": {},
   "outputs": [],
   "source": []
  },
  {
   "cell_type": "code",
   "execution_count": null,
   "metadata": {},
   "outputs": [],
   "source": []
  },
  {
   "cell_type": "code",
   "execution_count": null,
   "metadata": {},
   "outputs": [],
   "source": []
  },
  {
   "cell_type": "code",
   "execution_count": null,
   "metadata": {},
   "outputs": [],
   "source": []
  },
  {
   "cell_type": "code",
   "execution_count": null,
   "metadata": {},
   "outputs": [],
   "source": []
  },
  {
   "cell_type": "code",
   "execution_count": null,
   "metadata": {},
   "outputs": [],
   "source": []
  },
  {
   "cell_type": "code",
   "execution_count": null,
   "metadata": {},
   "outputs": [],
   "source": []
  },
  {
   "cell_type": "code",
   "execution_count": null,
   "metadata": {},
   "outputs": [],
   "source": []
  }
 ],
 "metadata": {
  "kernelspec": {
   "display_name": "Python 3",
   "language": "python",
   "name": "python3"
  },
  "language_info": {
   "codemirror_mode": {
    "name": "ipython",
    "version": 3
   },
   "file_extension": ".py",
   "mimetype": "text/x-python",
   "name": "python",
   "nbconvert_exporter": "python",
   "pygments_lexer": "ipython3",
   "version": "3.8.8"
  }
 },
 "nbformat": 4,
 "nbformat_minor": 4
}
